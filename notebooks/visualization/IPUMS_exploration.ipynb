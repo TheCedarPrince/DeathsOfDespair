{
 "cells": [
  {
   "cell_type": "code",
   "execution_count": 1,
   "metadata": {},
   "outputs": [],
   "source": [
    "using DrWatson\n",
    "@quickactivate \"CategoricalDataScience\""
   ]
  },
  {
   "cell_type": "code",
   "execution_count": 2,
   "id": "e78c95a4",
   "metadata": {},
   "outputs": [],
   "source": [
    "using CSV\n",
    "using DataFrames\n",
    "using IPUMS"
   ]
  },
  {
   "cell_type": "code",
   "execution_count": 3,
   "id": "9a1f3519",
   "metadata": {},
   "outputs": [
    {
     "data": {
      "text/plain": [
       "IPUMSAPI(OpenAPI.Clients.Client(\"https://api.ipums.org/\", Dict(\"Authorization\" => \"59cba10d8a5da536fc06b59d68edc92f279e4ce29f54c0335f359f7c\"), OpenAPI.Clients.get_api_return_type, Dict{Symbol, Any}(:verbose => false, :throw => false), Downloads.Downloader(Downloads.Curl.Multi(ReentrantLock(nothing, 0x00000000, 0x00, Base.GenericCondition{Base.Threads.SpinLock}(Base.IntrusiveLinkedList{Task}(nothing, nothing), Base.Threads.SpinLock(0)), (0, 0, 145793106536)), Ptr{Nothing} @0x0000000000000000, nothing, Downloads.Curl.Easy[], 0x0000000000007530), \"/etc/ssl/certs/ca-certificates.crt\", OpenAPI.Clients.var\"#6#8\"{Int64}(900)), Base.RefValue{Int64}(300), OpenAPI.Clients.noop_pre_request_hook, nothing, nothing, 900, true))"
      ]
     },
     "execution_count": 3,
     "metadata": {},
     "output_type": "execute_result"
    }
   ],
   "source": [
    "# This comes from NHGIS IPUMS Website\n",
    "api = IPUMSAPI(\"https://api.ipums.org/\", Dict(\"Authorization\" => \"59cba10d8a5da536fc06b59d68edc92f279e4ce29f54c0335f359f7c\"))"
   ]
  },
  {
   "cell_type": "code",
   "execution_count": 4,
   "id": "deb87307",
   "metadata": {},
   "outputs": [
    {
     "name": "stderr",
     "output_type": "stream",
     "text": [
      "\u001b[33m\u001b[1m┌ \u001b[22m\u001b[39m\u001b[33m\u001b[1mWarning: \u001b[22m\u001b[39mExtract 1 has expired and the associated data cannot be downloaded any longer. If you would like to download the data for this extract, please resubmit the extract request associated with this extract again to create a new extract with the same data from this extract.\n",
      "\u001b[33m\u001b[1m└ \u001b[22m\u001b[39m\u001b[90m@ IPUMS ~/.julia/packages/IPUMS/JhVdD/src/apis/api_IPUMSAPI.jl:213\u001b[39m\n"
     ]
    },
    {
     "data": {
      "text/plain": [
       "(Dict{String, Any}(\"number\" => 1, \"timeSeriesTableLayout\" => nothing, \"geographicExtents\" => nothing, \"status\" => \"completed\", \"description\" => \"Socioeconomic data to analyze deaths of despair by state\", \"timeSeriesTables\" => nothing, \"version\" => 2, \"dataFormat\" => \"fixed_width\", \"breakdownAndDataTypeLayout\" => nothing, \"shapefiles\" => nothing…), {\n",
       "  \"dataFormat\": \"fixed_width\",\n",
       "  \"description\": \"Socioeconomic data to analyze deaths of despair by state\",\n",
       "  \"version\": 2,\n",
       "  \"collection\": \"cps\"\n",
       "}\n",
       ", OpenAPI.Clients.ApiResponse(Downloads.Response(\"https\", \"https://api.ipums.org/extracts/1?version=2&collection=cps\", 200, \"HTTP/1.1 200 OK\", [\"cache-control\" => \"max-age=0, private, must-revalidate\", \"content-length\" => \"2072\", \"content-type\" => \"application/json; charset=utf-8\", \"date\" => \"Sun, 13 Apr 2025 20:10:34 GMT\", \"etag\" => \"W/\\\"54ba0d52b351bba05104ae9d7d9e46a3\\\"\", \"referrer-policy\" => \"strict-origin-when-cross-origin\", \"server\" => \"nginx/1.22.1\", \"vary\" => \"Origin\", \"vary\" => \"Accept\", \"x-content-type-options\" => \"nosniff\", \"x-frame-options\" => \"SAMEORIGIN\", \"x-permitted-cross-domain-policies\" => \"none\", \"x-ratelimit-limit\" => \"-1\", \"x-ratelimit-remaining\" => \"0\", \"x-ratelimit-reset\" => \"0\", \"x-request-id\" => \"cbfdae28-e648-44dd-ab79-499cdab5cc06\", \"x-runtime\" => \"0.576007\", \"x-xss-protection\" => \"0\"])))"
      ]
     },
     "execution_count": 4,
     "metadata": {},
     "output_type": "execute_result"
    }
   ],
   "source": [
    "# Gets information on status of request\n",
    "metadata, defn, msg = extract_info(api, 1, \"cps\")"
   ]
  },
  {
   "cell_type": "code",
   "execution_count": 5,
   "id": "970087d7",
   "metadata": {},
   "outputs": [
    {
     "data": {
      "text/plain": [
       "Dict{String, Any} with 13 entries:\n",
       "  \"number\"                     => 1\n",
       "  \"timeSeriesTableLayout\"      => nothing\n",
       "  \"geographicExtents\"          => nothing\n",
       "  \"status\"                     => \"completed\"\n",
       "  \"description\"                => \"Socioeconomic data to analyze deaths of desp…\n",
       "  \"timeSeriesTables\"           => nothing\n",
       "  \"version\"                    => 2\n",
       "  \"dataFormat\"                 => \"fixed_width\"\n",
       "  \"breakdownAndDataTypeLayout\" => nothing\n",
       "  \"shapefiles\"                 => nothing\n",
       "  \"downloadUrls\"               => Any[]\n",
       "  \"datasets\"                   => nothing\n",
       "  \"collection\"                 => \"cps\""
      ]
     },
     "execution_count": 5,
     "metadata": {},
     "output_type": "execute_result"
    }
   ],
   "source": [
    "metadata"
   ]
  },
  {
   "cell_type": "code",
   "execution_count": 6,
   "id": "b05e9e0c",
   "metadata": {},
   "outputs": [
    {
     "data": {
      "text/plain": [
       "{\n",
       "  \"dataFormat\": \"fixed_width\",\n",
       "  \"description\": \"Socioeconomic data to analyze deaths of despair by state\",\n",
       "  \"version\": 2,\n",
       "  \"collection\": \"cps\"\n",
       "}\n"
      ]
     },
     "execution_count": 6,
     "metadata": {},
     "output_type": "execute_result"
    }
   ],
   "source": [
    "defn"
   ]
  },
  {
   "cell_type": "code",
   "execution_count": 7,
   "id": "3d1ddab6",
   "metadata": {},
   "outputs": [
    {
     "data": {
      "text/plain": [
       "OpenAPI.Clients.ApiResponse(Downloads.Response(\"https\", \"https://api.ipums.org/extracts/1?version=2&collection=cps\", 200, \"HTTP/1.1 200 OK\", [\"cache-control\" => \"max-age=0, private, must-revalidate\", \"content-length\" => \"2072\", \"content-type\" => \"application/json; charset=utf-8\", \"date\" => \"Sun, 13 Apr 2025 20:10:34 GMT\", \"etag\" => \"W/\\\"54ba0d52b351bba05104ae9d7d9e46a3\\\"\", \"referrer-policy\" => \"strict-origin-when-cross-origin\", \"server\" => \"nginx/1.22.1\", \"vary\" => \"Origin\", \"vary\" => \"Accept\", \"x-content-type-options\" => \"nosniff\", \"x-frame-options\" => \"SAMEORIGIN\", \"x-permitted-cross-domain-policies\" => \"none\", \"x-ratelimit-limit\" => \"-1\", \"x-ratelimit-remaining\" => \"0\", \"x-ratelimit-reset\" => \"0\", \"x-request-id\" => \"cbfdae28-e648-44dd-ab79-499cdab5cc06\", \"x-runtime\" => \"0.576007\", \"x-xss-protection\" => \"0\"]))"
      ]
     },
     "execution_count": 7,
     "metadata": {},
     "output_type": "execute_result"
    }
   ],
   "source": [
    "msg"
   ]
  },
  {
   "cell_type": "code",
   "execution_count": 8,
   "id": "44d32108",
   "metadata": {},
   "outputs": [],
   "source": [
    "# Download submitted extract data to output path of your interest\n",
    "#extract_download(api, res.number, \"nhgis\"; output_path = \"file_downloads/\")"
   ]
  },
  {
   "cell_type": "code",
   "execution_count": 9,
   "id": "8d9bf060",
   "metadata": {},
   "outputs": [
    {
     "data": {
      "text/html": [
       "<div><div style = \"float: left;\"><span>8001492×29 DataFrame</span></div><div style = \"float: right;\"><span style = \"font-style: italic;\">8001467 rows omitted</span></div><div style = \"clear: both;\"></div></div><div class = \"data-frame\" style = \"overflow-x: scroll;\"><table class = \"data-frame\" style = \"margin-bottom: 6px;\"><thead><tr class = \"header\"><th class = \"rowNumber\" style = \"font-weight: bold; text-align: right;\">Row</th><th style = \"text-align: left;\">YEAR</th><th style = \"text-align: left;\">SERIAL</th><th style = \"text-align: left;\">MONTH</th><th style = \"text-align: left;\">HWTFINL</th><th style = \"text-align: left;\">CPSID</th><th style = \"text-align: left;\">ASECFLAG</th><th style = \"text-align: left;\">HFLAG</th><th style = \"text-align: left;\">ASECWTH</th><th style = \"text-align: left;\">STATECENSUS</th><th style = \"text-align: left;\">HHINCOME</th><th style = \"text-align: left;\">PROPTAX</th><th style = \"text-align: left;\">FOODSTMP</th><th style = \"text-align: left;\">STAMPMO</th><th style = \"text-align: left;\">PERNUM</th><th style = \"text-align: left;\">WTFINL</th><th style = \"text-align: left;\">CPSIDP</th><th style = \"text-align: left;\">CPSIDV</th><th style = \"text-align: left;\">ASECWT</th><th style = \"text-align: left;\">UCUNION</th><th style = \"text-align: left;\">OFFPOV</th><th style = \"text-align: left;\">FOODSTAMP</th><th style = \"text-align: left;\">HOUSSUB</th><th style = \"text-align: left;\">SCHLLUNCH</th><th style = \"text-align: left;\">CESOCCONTCT</th><th style = \"text-align: left;\">CESOCIALIZE</th><th style = \"text-align: left;\">FREVER</th><th style = \"text-align: left;\">TAGESMK</th><th style = \"text-align: left;\">TCIGDAY</th><th style = \"text-align: left;\">TAMSMK</th></tr><tr class = \"subheader headerLastRow\"><th class = \"rowNumber\" style = \"font-weight: bold; text-align: right;\"></th><th title = \"Int64\" style = \"text-align: left;\">Int64</th><th title = \"Int64\" style = \"text-align: left;\">Int64</th><th title = \"Int64\" style = \"text-align: left;\">Int64</th><th title = \"Union{Missing, Float64}\" style = \"text-align: left;\">Float64?</th><th title = \"Int64\" style = \"text-align: left;\">Int64</th><th title = \"Union{Missing, Int64}\" style = \"text-align: left;\">Int64?</th><th title = \"Union{Missing, Int64}\" style = \"text-align: left;\">Int64?</th><th title = \"Union{Missing, Float64}\" style = \"text-align: left;\">Float64?</th><th title = \"Int64\" style = \"text-align: left;\">Int64</th><th title = \"Union{Missing, Int64}\" style = \"text-align: left;\">Int64?</th><th title = \"Union{Missing, Int64}\" style = \"text-align: left;\">Int64?</th><th title = \"Union{Missing, Int64}\" style = \"text-align: left;\">Int64?</th><th title = \"Union{Missing, Int64}\" style = \"text-align: left;\">Int64?</th><th title = \"Int64\" style = \"text-align: left;\">Int64</th><th title = \"Union{Missing, Float64}\" style = \"text-align: left;\">Float64?</th><th title = \"Int64\" style = \"text-align: left;\">Int64</th><th title = \"Int64\" style = \"text-align: left;\">Int64</th><th title = \"Union{Missing, Float64}\" style = \"text-align: left;\">Float64?</th><th title = \"Union{Missing, Int64}\" style = \"text-align: left;\">Int64?</th><th title = \"Union{Missing, Int64}\" style = \"text-align: left;\">Int64?</th><th title = \"Union{Missing, Int64}\" style = \"text-align: left;\">Int64?</th><th title = \"Union{Missing, Int64}\" style = \"text-align: left;\">Int64?</th><th title = \"Union{Missing, Int64}\" style = \"text-align: left;\">Int64?</th><th title = \"Union{Missing, Int64}\" style = \"text-align: left;\">Int64?</th><th title = \"Union{Missing, Int64}\" style = \"text-align: left;\">Int64?</th><th title = \"Union{Missing, Int64}\" style = \"text-align: left;\">Int64?</th><th title = \"Union{Missing, Int64}\" style = \"text-align: left;\">Int64?</th><th title = \"Union{Missing, Int64}\" style = \"text-align: left;\">Int64?</th><th title = \"Union{Missing, Int64}\" style = \"text-align: left;\">Int64?</th></tr></thead><tbody><tr><td class = \"rowNumber\" style = \"font-weight: bold; text-align: right;\">1</td><td style = \"text-align: right;\">2009</td><td style = \"text-align: right;\">1</td><td style = \"text-align: right;\">3</td><td style = \"font-style: italic; text-align: right;\">missing</td><td style = \"text-align: right;\">20071202814500</td><td style = \"text-align: right;\">1</td><td style = \"font-style: italic; text-align: right;\">missing</td><td style = \"text-align: right;\">534.34</td><td style = \"text-align: right;\">11</td><td style = \"text-align: right;\">144000</td><td style = \"text-align: right;\">1100</td><td style = \"text-align: right;\">1</td><td style = \"text-align: right;\">0</td><td style = \"text-align: right;\">1</td><td style = \"font-style: italic; text-align: right;\">missing</td><td style = \"text-align: right;\">20071202814501</td><td style = \"text-align: right;\">200712028145011</td><td style = \"text-align: right;\">534.34</td><td style = \"font-style: italic; text-align: right;\">missing</td><td style = \"text-align: right;\">2</td><td style = \"text-align: right;\">0</td><td style = \"text-align: right;\">0</td><td style = \"text-align: right;\">0</td><td style = \"font-style: italic; text-align: right;\">missing</td><td style = \"font-style: italic; text-align: right;\">missing</td><td style = \"font-style: italic; text-align: right;\">missing</td><td style = \"font-style: italic; text-align: right;\">missing</td><td style = \"font-style: italic; text-align: right;\">missing</td><td style = \"font-style: italic; text-align: right;\">missing</td></tr><tr><td class = \"rowNumber\" style = \"font-weight: bold; text-align: right;\">2</td><td style = \"text-align: right;\">2009</td><td style = \"text-align: right;\">1</td><td style = \"text-align: right;\">3</td><td style = \"font-style: italic; text-align: right;\">missing</td><td style = \"text-align: right;\">20071202814500</td><td style = \"text-align: right;\">1</td><td style = \"font-style: italic; text-align: right;\">missing</td><td style = \"text-align: right;\">534.34</td><td style = \"text-align: right;\">11</td><td style = \"text-align: right;\">144000</td><td style = \"text-align: right;\">1100</td><td style = \"text-align: right;\">1</td><td style = \"text-align: right;\">0</td><td style = \"text-align: right;\">2</td><td style = \"font-style: italic; text-align: right;\">missing</td><td style = \"text-align: right;\">20071202814502</td><td style = \"text-align: right;\">200712028145021</td><td style = \"text-align: right;\">534.34</td><td style = \"font-style: italic; text-align: right;\">missing</td><td style = \"text-align: right;\">2</td><td style = \"text-align: right;\">0</td><td style = \"text-align: right;\">0</td><td style = \"text-align: right;\">0</td><td style = \"font-style: italic; text-align: right;\">missing</td><td style = \"font-style: italic; text-align: right;\">missing</td><td style = \"font-style: italic; text-align: right;\">missing</td><td style = \"font-style: italic; text-align: right;\">missing</td><td style = \"font-style: italic; text-align: right;\">missing</td><td style = \"font-style: italic; text-align: right;\">missing</td></tr><tr><td class = \"rowNumber\" style = \"font-weight: bold; text-align: right;\">3</td><td style = \"text-align: right;\">2009</td><td style = \"text-align: right;\">2</td><td style = \"text-align: right;\">3</td><td style = \"font-style: italic; text-align: right;\">missing</td><td style = \"text-align: right;\">20071202885100</td><td style = \"text-align: right;\">1</td><td style = \"font-style: italic; text-align: right;\">missing</td><td style = \"text-align: right;\">546.24</td><td style = \"text-align: right;\">11</td><td style = \"text-align: right;\">162162</td><td style = \"text-align: right;\">1210</td><td style = \"text-align: right;\">1</td><td style = \"text-align: right;\">0</td><td style = \"text-align: right;\">1</td><td style = \"font-style: italic; text-align: right;\">missing</td><td style = \"text-align: right;\">20071202885101</td><td style = \"text-align: right;\">200712028851011</td><td style = \"text-align: right;\">546.24</td><td style = \"font-style: italic; text-align: right;\">missing</td><td style = \"text-align: right;\">2</td><td style = \"text-align: right;\">0</td><td style = \"text-align: right;\">0</td><td style = \"text-align: right;\">0</td><td style = \"font-style: italic; text-align: right;\">missing</td><td style = \"font-style: italic; text-align: right;\">missing</td><td style = \"font-style: italic; text-align: right;\">missing</td><td style = \"font-style: italic; text-align: right;\">missing</td><td style = \"font-style: italic; text-align: right;\">missing</td><td style = \"font-style: italic; text-align: right;\">missing</td></tr><tr><td class = \"rowNumber\" style = \"font-weight: bold; text-align: right;\">4</td><td style = \"text-align: right;\">2009</td><td style = \"text-align: right;\">2</td><td style = \"text-align: right;\">3</td><td style = \"font-style: italic; text-align: right;\">missing</td><td style = \"text-align: right;\">20071202885100</td><td style = \"text-align: right;\">1</td><td style = \"font-style: italic; text-align: right;\">missing</td><td style = \"text-align: right;\">546.24</td><td style = \"text-align: right;\">11</td><td style = \"text-align: right;\">162162</td><td style = \"text-align: right;\">1210</td><td style = \"text-align: right;\">1</td><td style = \"text-align: right;\">0</td><td style = \"text-align: right;\">2</td><td style = \"font-style: italic; text-align: right;\">missing</td><td style = \"text-align: right;\">20071202885102</td><td style = \"text-align: right;\">200712028851021</td><td style = \"text-align: right;\">546.24</td><td style = \"font-style: italic; text-align: right;\">missing</td><td style = \"text-align: right;\">2</td><td style = \"text-align: right;\">0</td><td style = \"text-align: right;\">0</td><td style = \"text-align: right;\">0</td><td style = \"font-style: italic; text-align: right;\">missing</td><td style = \"font-style: italic; text-align: right;\">missing</td><td style = \"font-style: italic; text-align: right;\">missing</td><td style = \"font-style: italic; text-align: right;\">missing</td><td style = \"font-style: italic; text-align: right;\">missing</td><td style = \"font-style: italic; text-align: right;\">missing</td></tr><tr><td class = \"rowNumber\" style = \"font-weight: bold; text-align: right;\">5</td><td style = \"text-align: right;\">2009</td><td style = \"text-align: right;\">3</td><td style = \"text-align: right;\">3</td><td style = \"font-style: italic; text-align: right;\">missing</td><td style = \"text-align: right;\">20071202862500</td><td style = \"text-align: right;\">1</td><td style = \"font-style: italic; text-align: right;\">missing</td><td style = \"text-align: right;\">287.76</td><td style = \"text-align: right;\">11</td><td style = \"text-align: right;\">113549</td><td style = \"text-align: right;\">2200</td><td style = \"text-align: right;\">1</td><td style = \"text-align: right;\">0</td><td style = \"text-align: right;\">1</td><td style = \"font-style: italic; text-align: right;\">missing</td><td style = \"text-align: right;\">20071202862501</td><td style = \"text-align: right;\">200712028625011</td><td style = \"text-align: right;\">287.76</td><td style = \"font-style: italic; text-align: right;\">missing</td><td style = \"text-align: right;\">2</td><td style = \"text-align: right;\">0</td><td style = \"text-align: right;\">0</td><td style = \"text-align: right;\">0</td><td style = \"font-style: italic; text-align: right;\">missing</td><td style = \"font-style: italic; text-align: right;\">missing</td><td style = \"font-style: italic; text-align: right;\">missing</td><td style = \"font-style: italic; text-align: right;\">missing</td><td style = \"font-style: italic; text-align: right;\">missing</td><td style = \"font-style: italic; text-align: right;\">missing</td></tr><tr><td class = \"rowNumber\" style = \"font-weight: bold; text-align: right;\">6</td><td style = \"text-align: right;\">2009</td><td style = \"text-align: right;\">3</td><td style = \"text-align: right;\">3</td><td style = \"font-style: italic; text-align: right;\">missing</td><td style = \"text-align: right;\">20071202862500</td><td style = \"text-align: right;\">1</td><td style = \"font-style: italic; text-align: right;\">missing</td><td style = \"text-align: right;\">287.76</td><td style = \"text-align: right;\">11</td><td style = \"text-align: right;\">113549</td><td style = \"text-align: right;\">2200</td><td style = \"text-align: right;\">1</td><td style = \"text-align: right;\">0</td><td style = \"text-align: right;\">2</td><td style = \"font-style: italic; text-align: right;\">missing</td><td style = \"text-align: right;\">20071202862502</td><td style = \"text-align: right;\">200712028625021</td><td style = \"text-align: right;\">287.76</td><td style = \"font-style: italic; text-align: right;\">missing</td><td style = \"text-align: right;\">2</td><td style = \"text-align: right;\">0</td><td style = \"text-align: right;\">0</td><td style = \"text-align: right;\">0</td><td style = \"font-style: italic; text-align: right;\">missing</td><td style = \"font-style: italic; text-align: right;\">missing</td><td style = \"font-style: italic; text-align: right;\">missing</td><td style = \"font-style: italic; text-align: right;\">missing</td><td style = \"font-style: italic; text-align: right;\">missing</td><td style = \"font-style: italic; text-align: right;\">missing</td></tr><tr><td class = \"rowNumber\" style = \"font-weight: bold; text-align: right;\">7</td><td style = \"text-align: right;\">2009</td><td style = \"text-align: right;\">3</td><td style = \"text-align: right;\">3</td><td style = \"font-style: italic; text-align: right;\">missing</td><td style = \"text-align: right;\">20071202862500</td><td style = \"text-align: right;\">1</td><td style = \"font-style: italic; text-align: right;\">missing</td><td style = \"text-align: right;\">287.76</td><td style = \"text-align: right;\">11</td><td style = \"text-align: right;\">113549</td><td style = \"text-align: right;\">2200</td><td style = \"text-align: right;\">1</td><td style = \"text-align: right;\">0</td><td style = \"text-align: right;\">3</td><td style = \"font-style: italic; text-align: right;\">missing</td><td style = \"text-align: right;\">20071202862504</td><td style = \"text-align: right;\">200712028625041</td><td style = \"text-align: right;\">325.92</td><td style = \"font-style: italic; text-align: right;\">missing</td><td style = \"text-align: right;\">2</td><td style = \"text-align: right;\">0</td><td style = \"text-align: right;\">0</td><td style = \"text-align: right;\">0</td><td style = \"font-style: italic; text-align: right;\">missing</td><td style = \"font-style: italic; text-align: right;\">missing</td><td style = \"font-style: italic; text-align: right;\">missing</td><td style = \"font-style: italic; text-align: right;\">missing</td><td style = \"font-style: italic; text-align: right;\">missing</td><td style = \"font-style: italic; text-align: right;\">missing</td></tr><tr><td class = \"rowNumber\" style = \"font-weight: bold; text-align: right;\">8</td><td style = \"text-align: right;\">2009</td><td style = \"text-align: right;\">3</td><td style = \"text-align: right;\">3</td><td style = \"font-style: italic; text-align: right;\">missing</td><td style = \"text-align: right;\">20071202862500</td><td style = \"text-align: right;\">1</td><td style = \"font-style: italic; text-align: right;\">missing</td><td style = \"text-align: right;\">287.76</td><td style = \"text-align: right;\">11</td><td style = \"text-align: right;\">113549</td><td style = \"text-align: right;\">2200</td><td style = \"text-align: right;\">1</td><td style = \"text-align: right;\">0</td><td style = \"text-align: right;\">4</td><td style = \"font-style: italic; text-align: right;\">missing</td><td style = \"text-align: right;\">20071202862503</td><td style = \"text-align: right;\">200712028625031</td><td style = \"text-align: right;\">279.17</td><td style = \"font-style: italic; text-align: right;\">missing</td><td style = \"text-align: right;\">2</td><td style = \"text-align: right;\">0</td><td style = \"text-align: right;\">0</td><td style = \"text-align: right;\">0</td><td style = \"font-style: italic; text-align: right;\">missing</td><td style = \"font-style: italic; text-align: right;\">missing</td><td style = \"font-style: italic; text-align: right;\">missing</td><td style = \"font-style: italic; text-align: right;\">missing</td><td style = \"font-style: italic; text-align: right;\">missing</td><td style = \"font-style: italic; text-align: right;\">missing</td></tr><tr><td class = \"rowNumber\" style = \"font-weight: bold; text-align: right;\">9</td><td style = \"text-align: right;\">2009</td><td style = \"text-align: right;\">3</td><td style = \"text-align: right;\">3</td><td style = \"font-style: italic; text-align: right;\">missing</td><td style = \"text-align: right;\">20071202862500</td><td style = \"text-align: right;\">1</td><td style = \"font-style: italic; text-align: right;\">missing</td><td style = \"text-align: right;\">287.76</td><td style = \"text-align: right;\">11</td><td style = \"text-align: right;\">113549</td><td style = \"text-align: right;\">2200</td><td style = \"text-align: right;\">1</td><td style = \"text-align: right;\">0</td><td style = \"text-align: right;\">5</td><td style = \"font-style: italic; text-align: right;\">missing</td><td style = \"text-align: right;\">20071202862505</td><td style = \"text-align: right;\">200712028625051</td><td style = \"text-align: right;\">263.12</td><td style = \"font-style: italic; text-align: right;\">missing</td><td style = \"text-align: right;\">2</td><td style = \"text-align: right;\">0</td><td style = \"text-align: right;\">0</td><td style = \"text-align: right;\">0</td><td style = \"font-style: italic; text-align: right;\">missing</td><td style = \"font-style: italic; text-align: right;\">missing</td><td style = \"font-style: italic; text-align: right;\">missing</td><td style = \"font-style: italic; text-align: right;\">missing</td><td style = \"font-style: italic; text-align: right;\">missing</td><td style = \"font-style: italic; text-align: right;\">missing</td></tr><tr><td class = \"rowNumber\" style = \"font-weight: bold; text-align: right;\">10</td><td style = \"text-align: right;\">2009</td><td style = \"text-align: right;\">4</td><td style = \"text-align: right;\">3</td><td style = \"font-style: italic; text-align: right;\">missing</td><td style = \"text-align: right;\">20071202847400</td><td style = \"text-align: right;\">1</td><td style = \"font-style: italic; text-align: right;\">missing</td><td style = \"text-align: right;\">285.36</td><td style = \"text-align: right;\">11</td><td style = \"text-align: right;\">93506</td><td style = \"text-align: right;\">894</td><td style = \"text-align: right;\">1</td><td style = \"text-align: right;\">0</td><td style = \"text-align: right;\">1</td><td style = \"font-style: italic; text-align: right;\">missing</td><td style = \"text-align: right;\">20071202847401</td><td style = \"text-align: right;\">200712028474011</td><td style = \"text-align: right;\">285.36</td><td style = \"font-style: italic; text-align: right;\">missing</td><td style = \"text-align: right;\">2</td><td style = \"text-align: right;\">0</td><td style = \"text-align: right;\">0</td><td style = \"text-align: right;\">76</td><td style = \"font-style: italic; text-align: right;\">missing</td><td style = \"font-style: italic; text-align: right;\">missing</td><td style = \"font-style: italic; text-align: right;\">missing</td><td style = \"font-style: italic; text-align: right;\">missing</td><td style = \"font-style: italic; text-align: right;\">missing</td><td style = \"font-style: italic; text-align: right;\">missing</td></tr><tr><td class = \"rowNumber\" style = \"font-weight: bold; text-align: right;\">11</td><td style = \"text-align: right;\">2009</td><td style = \"text-align: right;\">4</td><td style = \"text-align: right;\">3</td><td style = \"font-style: italic; text-align: right;\">missing</td><td style = \"text-align: right;\">20071202847400</td><td style = \"text-align: right;\">1</td><td style = \"font-style: italic; text-align: right;\">missing</td><td style = \"text-align: right;\">285.36</td><td style = \"text-align: right;\">11</td><td style = \"text-align: right;\">93506</td><td style = \"text-align: right;\">894</td><td style = \"text-align: right;\">1</td><td style = \"text-align: right;\">0</td><td style = \"text-align: right;\">2</td><td style = \"font-style: italic; text-align: right;\">missing</td><td style = \"text-align: right;\">20071202847402</td><td style = \"text-align: right;\">200712028474021</td><td style = \"text-align: right;\">285.36</td><td style = \"font-style: italic; text-align: right;\">missing</td><td style = \"text-align: right;\">2</td><td style = \"text-align: right;\">0</td><td style = \"text-align: right;\">0</td><td style = \"text-align: right;\">76</td><td style = \"font-style: italic; text-align: right;\">missing</td><td style = \"font-style: italic; text-align: right;\">missing</td><td style = \"font-style: italic; text-align: right;\">missing</td><td style = \"font-style: italic; text-align: right;\">missing</td><td style = \"font-style: italic; text-align: right;\">missing</td><td style = \"font-style: italic; text-align: right;\">missing</td></tr><tr><td class = \"rowNumber\" style = \"font-weight: bold; text-align: right;\">12</td><td style = \"text-align: right;\">2009</td><td style = \"text-align: right;\">4</td><td style = \"text-align: right;\">3</td><td style = \"font-style: italic; text-align: right;\">missing</td><td style = \"text-align: right;\">20071202847400</td><td style = \"text-align: right;\">1</td><td style = \"font-style: italic; text-align: right;\">missing</td><td style = \"text-align: right;\">285.36</td><td style = \"text-align: right;\">11</td><td style = \"text-align: right;\">93506</td><td style = \"text-align: right;\">894</td><td style = \"text-align: right;\">1</td><td style = \"text-align: right;\">0</td><td style = \"text-align: right;\">3</td><td style = \"font-style: italic; text-align: right;\">missing</td><td style = \"text-align: right;\">20071202847403</td><td style = \"text-align: right;\">200712028474031</td><td style = \"text-align: right;\">261.87</td><td style = \"font-style: italic; text-align: right;\">missing</td><td style = \"text-align: right;\">2</td><td style = \"text-align: right;\">0</td><td style = \"text-align: right;\">0</td><td style = \"text-align: right;\">76</td><td style = \"font-style: italic; text-align: right;\">missing</td><td style = \"font-style: italic; text-align: right;\">missing</td><td style = \"font-style: italic; text-align: right;\">missing</td><td style = \"font-style: italic; text-align: right;\">missing</td><td style = \"font-style: italic; text-align: right;\">missing</td><td style = \"font-style: italic; text-align: right;\">missing</td></tr><tr><td class = \"rowNumber\" style = \"font-weight: bold; text-align: right;\">13</td><td style = \"text-align: right;\">2009</td><td style = \"text-align: right;\">5</td><td style = \"text-align: right;\">3</td><td style = \"font-style: italic; text-align: right;\">missing</td><td style = \"text-align: right;\">20071202888600</td><td style = \"text-align: right;\">1</td><td style = \"font-style: italic; text-align: right;\">missing</td><td style = \"text-align: right;\">528.13</td><td style = \"text-align: right;\">11</td><td style = \"text-align: right;\">18953</td><td style = \"text-align: right;\">800</td><td style = \"text-align: right;\">1</td><td style = \"text-align: right;\">0</td><td style = \"text-align: right;\">1</td><td style = \"font-style: italic; text-align: right;\">missing</td><td style = \"text-align: right;\">20071202888601</td><td style = \"text-align: right;\">200712028886011</td><td style = \"text-align: right;\">528.13</td><td style = \"font-style: italic; text-align: right;\">missing</td><td style = \"text-align: right;\">2</td><td style = \"text-align: right;\">0</td><td style = \"text-align: right;\">0</td><td style = \"text-align: right;\">0</td><td style = \"font-style: italic; text-align: right;\">missing</td><td style = \"font-style: italic; text-align: right;\">missing</td><td style = \"font-style: italic; text-align: right;\">missing</td><td style = \"font-style: italic; text-align: right;\">missing</td><td style = \"font-style: italic; text-align: right;\">missing</td><td style = \"font-style: italic; text-align: right;\">missing</td></tr><tr><td style = \"text-align: right;\">&vellip;</td><td style = \"text-align: right;\">&vellip;</td><td style = \"text-align: right;\">&vellip;</td><td style = \"text-align: right;\">&vellip;</td><td style = \"text-align: right;\">&vellip;</td><td style = \"text-align: right;\">&vellip;</td><td style = \"text-align: right;\">&vellip;</td><td style = \"text-align: right;\">&vellip;</td><td style = \"text-align: right;\">&vellip;</td><td style = \"text-align: right;\">&vellip;</td><td style = \"text-align: right;\">&vellip;</td><td style = \"text-align: right;\">&vellip;</td><td style = \"text-align: right;\">&vellip;</td><td style = \"text-align: right;\">&vellip;</td><td style = \"text-align: right;\">&vellip;</td><td style = \"text-align: right;\">&vellip;</td><td style = \"text-align: right;\">&vellip;</td><td style = \"text-align: right;\">&vellip;</td><td style = \"text-align: right;\">&vellip;</td><td style = \"text-align: right;\">&vellip;</td><td style = \"text-align: right;\">&vellip;</td><td style = \"text-align: right;\">&vellip;</td><td style = \"text-align: right;\">&vellip;</td><td style = \"text-align: right;\">&vellip;</td><td style = \"text-align: right;\">&vellip;</td><td style = \"text-align: right;\">&vellip;</td><td style = \"text-align: right;\">&vellip;</td><td style = \"text-align: right;\">&vellip;</td><td style = \"text-align: right;\">&vellip;</td><td style = \"text-align: right;\">&vellip;</td></tr><tr><td class = \"rowNumber\" style = \"font-weight: bold; text-align: right;\">8001481</td><td style = \"text-align: right;\">2025</td><td style = \"text-align: right;\">69485</td><td style = \"text-align: right;\">2</td><td style = \"text-align: right;\">4776.44</td><td style = \"text-align: right;\">20250206948500</td><td style = \"font-style: italic; text-align: right;\">missing</td><td style = \"font-style: italic; text-align: right;\">missing</td><td style = \"font-style: italic; text-align: right;\">missing</td><td style = \"text-align: right;\">32</td><td style = \"font-style: italic; text-align: right;\">missing</td><td style = \"font-style: italic; text-align: right;\">missing</td><td style = \"font-style: italic; text-align: right;\">missing</td><td style = \"font-style: italic; text-align: right;\">missing</td><td style = \"text-align: right;\">1</td><td style = \"text-align: right;\">5500.31</td><td style = \"text-align: right;\">20250206948501</td><td style = \"text-align: right;\">202502069485011</td><td style = \"font-style: italic; text-align: right;\">missing</td><td style = \"font-style: italic; text-align: right;\">missing</td><td style = \"font-style: italic; text-align: right;\">missing</td><td style = \"font-style: italic; text-align: right;\">missing</td><td style = \"font-style: italic; text-align: right;\">missing</td><td style = \"font-style: italic; text-align: right;\">missing</td><td style = \"font-style: italic; text-align: right;\">missing</td><td style = \"font-style: italic; text-align: right;\">missing</td><td style = \"font-style: italic; text-align: right;\">missing</td><td style = \"font-style: italic; text-align: right;\">missing</td><td style = \"font-style: italic; text-align: right;\">missing</td><td style = \"font-style: italic; text-align: right;\">missing</td></tr><tr><td class = \"rowNumber\" style = \"font-weight: bold; text-align: right;\">8001482</td><td style = \"text-align: right;\">2025</td><td style = \"text-align: right;\">69485</td><td style = \"text-align: right;\">2</td><td style = \"text-align: right;\">4776.44</td><td style = \"text-align: right;\">20250206948500</td><td style = \"font-style: italic; text-align: right;\">missing</td><td style = \"font-style: italic; text-align: right;\">missing</td><td style = \"font-style: italic; text-align: right;\">missing</td><td style = \"text-align: right;\">32</td><td style = \"font-style: italic; text-align: right;\">missing</td><td style = \"font-style: italic; text-align: right;\">missing</td><td style = \"font-style: italic; text-align: right;\">missing</td><td style = \"font-style: italic; text-align: right;\">missing</td><td style = \"text-align: right;\">2</td><td style = \"text-align: right;\">4776.44</td><td style = \"text-align: right;\">20250206948502</td><td style = \"text-align: right;\">202502069485021</td><td style = \"font-style: italic; text-align: right;\">missing</td><td style = \"font-style: italic; text-align: right;\">missing</td><td style = \"font-style: italic; text-align: right;\">missing</td><td style = \"font-style: italic; text-align: right;\">missing</td><td style = \"font-style: italic; text-align: right;\">missing</td><td style = \"font-style: italic; text-align: right;\">missing</td><td style = \"font-style: italic; text-align: right;\">missing</td><td style = \"font-style: italic; text-align: right;\">missing</td><td style = \"font-style: italic; text-align: right;\">missing</td><td style = \"font-style: italic; text-align: right;\">missing</td><td style = \"font-style: italic; text-align: right;\">missing</td><td style = \"font-style: italic; text-align: right;\">missing</td></tr><tr><td class = \"rowNumber\" style = \"font-weight: bold; text-align: right;\">8001483</td><td style = \"text-align: right;\">2025</td><td style = \"text-align: right;\">69485</td><td style = \"text-align: right;\">2</td><td style = \"text-align: right;\">4776.44</td><td style = \"text-align: right;\">20250206948500</td><td style = \"font-style: italic; text-align: right;\">missing</td><td style = \"font-style: italic; text-align: right;\">missing</td><td style = \"font-style: italic; text-align: right;\">missing</td><td style = \"text-align: right;\">32</td><td style = \"font-style: italic; text-align: right;\">missing</td><td style = \"font-style: italic; text-align: right;\">missing</td><td style = \"font-style: italic; text-align: right;\">missing</td><td style = \"font-style: italic; text-align: right;\">missing</td><td style = \"text-align: right;\">3</td><td style = \"text-align: right;\">3394.99</td><td style = \"text-align: right;\">20250206948503</td><td style = \"text-align: right;\">202502069485031</td><td style = \"font-style: italic; text-align: right;\">missing</td><td style = \"font-style: italic; text-align: right;\">missing</td><td style = \"font-style: italic; text-align: right;\">missing</td><td style = \"font-style: italic; text-align: right;\">missing</td><td style = \"font-style: italic; text-align: right;\">missing</td><td style = \"font-style: italic; text-align: right;\">missing</td><td style = \"font-style: italic; text-align: right;\">missing</td><td style = \"font-style: italic; text-align: right;\">missing</td><td style = \"font-style: italic; text-align: right;\">missing</td><td style = \"font-style: italic; text-align: right;\">missing</td><td style = \"font-style: italic; text-align: right;\">missing</td><td style = \"font-style: italic; text-align: right;\">missing</td></tr><tr><td class = \"rowNumber\" style = \"font-weight: bold; text-align: right;\">8001484</td><td style = \"text-align: right;\">2025</td><td style = \"text-align: right;\">69485</td><td style = \"text-align: right;\">2</td><td style = \"text-align: right;\">4776.44</td><td style = \"text-align: right;\">20250206948500</td><td style = \"font-style: italic; text-align: right;\">missing</td><td style = \"font-style: italic; text-align: right;\">missing</td><td style = \"font-style: italic; text-align: right;\">missing</td><td style = \"text-align: right;\">32</td><td style = \"font-style: italic; text-align: right;\">missing</td><td style = \"font-style: italic; text-align: right;\">missing</td><td style = \"font-style: italic; text-align: right;\">missing</td><td style = \"font-style: italic; text-align: right;\">missing</td><td style = \"text-align: right;\">4</td><td style = \"text-align: right;\">7854.0</td><td style = \"text-align: right;\">20250206948504</td><td style = \"text-align: right;\">202502069485041</td><td style = \"font-style: italic; text-align: right;\">missing</td><td style = \"font-style: italic; text-align: right;\">missing</td><td style = \"font-style: italic; text-align: right;\">missing</td><td style = \"font-style: italic; text-align: right;\">missing</td><td style = \"font-style: italic; text-align: right;\">missing</td><td style = \"font-style: italic; text-align: right;\">missing</td><td style = \"font-style: italic; text-align: right;\">missing</td><td style = \"font-style: italic; text-align: right;\">missing</td><td style = \"font-style: italic; text-align: right;\">missing</td><td style = \"font-style: italic; text-align: right;\">missing</td><td style = \"font-style: italic; text-align: right;\">missing</td><td style = \"font-style: italic; text-align: right;\">missing</td></tr><tr><td class = \"rowNumber\" style = \"font-weight: bold; text-align: right;\">8001485</td><td style = \"text-align: right;\">2025</td><td style = \"text-align: right;\">69486</td><td style = \"text-align: right;\">2</td><td style = \"text-align: right;\">4271.33</td><td style = \"text-align: right;\">20231100759000</td><td style = \"font-style: italic; text-align: right;\">missing</td><td style = \"font-style: italic; text-align: right;\">missing</td><td style = \"font-style: italic; text-align: right;\">missing</td><td style = \"text-align: right;\">74</td><td style = \"font-style: italic; text-align: right;\">missing</td><td style = \"font-style: italic; text-align: right;\">missing</td><td style = \"font-style: italic; text-align: right;\">missing</td><td style = \"font-style: italic; text-align: right;\">missing</td><td style = \"text-align: right;\">1</td><td style = \"text-align: right;\">4271.33</td><td style = \"text-align: right;\">20231100759001</td><td style = \"text-align: right;\">202311007590011</td><td style = \"font-style: italic; text-align: right;\">missing</td><td style = \"font-style: italic; text-align: right;\">missing</td><td style = \"font-style: italic; text-align: right;\">missing</td><td style = \"font-style: italic; text-align: right;\">missing</td><td style = \"font-style: italic; text-align: right;\">missing</td><td style = \"font-style: italic; text-align: right;\">missing</td><td style = \"font-style: italic; text-align: right;\">missing</td><td style = \"font-style: italic; text-align: right;\">missing</td><td style = \"font-style: italic; text-align: right;\">missing</td><td style = \"font-style: italic; text-align: right;\">missing</td><td style = \"font-style: italic; text-align: right;\">missing</td><td style = \"font-style: italic; text-align: right;\">missing</td></tr><tr><td class = \"rowNumber\" style = \"font-weight: bold; text-align: right;\">8001486</td><td style = \"text-align: right;\">2025</td><td style = \"text-align: right;\">69486</td><td style = \"text-align: right;\">2</td><td style = \"text-align: right;\">4271.33</td><td style = \"text-align: right;\">20231100759000</td><td style = \"font-style: italic; text-align: right;\">missing</td><td style = \"font-style: italic; text-align: right;\">missing</td><td style = \"font-style: italic; text-align: right;\">missing</td><td style = \"text-align: right;\">74</td><td style = \"font-style: italic; text-align: right;\">missing</td><td style = \"font-style: italic; text-align: right;\">missing</td><td style = \"font-style: italic; text-align: right;\">missing</td><td style = \"font-style: italic; text-align: right;\">missing</td><td style = \"text-align: right;\">2</td><td style = \"text-align: right;\">3958.79</td><td style = \"text-align: right;\">20231100759002</td><td style = \"text-align: right;\">202311007590021</td><td style = \"font-style: italic; text-align: right;\">missing</td><td style = \"font-style: italic; text-align: right;\">missing</td><td style = \"font-style: italic; text-align: right;\">missing</td><td style = \"font-style: italic; text-align: right;\">missing</td><td style = \"font-style: italic; text-align: right;\">missing</td><td style = \"font-style: italic; text-align: right;\">missing</td><td style = \"font-style: italic; text-align: right;\">missing</td><td style = \"font-style: italic; text-align: right;\">missing</td><td style = \"font-style: italic; text-align: right;\">missing</td><td style = \"font-style: italic; text-align: right;\">missing</td><td style = \"font-style: italic; text-align: right;\">missing</td><td style = \"font-style: italic; text-align: right;\">missing</td></tr><tr><td class = \"rowNumber\" style = \"font-weight: bold; text-align: right;\">8001487</td><td style = \"text-align: right;\">2025</td><td style = \"text-align: right;\">69487</td><td style = \"text-align: right;\">2</td><td style = \"text-align: right;\">5896.4</td><td style = \"text-align: right;\">20241106963600</td><td style = \"font-style: italic; text-align: right;\">missing</td><td style = \"font-style: italic; text-align: right;\">missing</td><td style = \"font-style: italic; text-align: right;\">missing</td><td style = \"text-align: right;\">31</td><td style = \"font-style: italic; text-align: right;\">missing</td><td style = \"font-style: italic; text-align: right;\">missing</td><td style = \"font-style: italic; text-align: right;\">missing</td><td style = \"font-style: italic; text-align: right;\">missing</td><td style = \"text-align: right;\">1</td><td style = \"text-align: right;\">5896.4</td><td style = \"text-align: right;\">20241106963601</td><td style = \"text-align: right;\">202411069636011</td><td style = \"font-style: italic; text-align: right;\">missing</td><td style = \"font-style: italic; text-align: right;\">missing</td><td style = \"font-style: italic; text-align: right;\">missing</td><td style = \"font-style: italic; text-align: right;\">missing</td><td style = \"font-style: italic; text-align: right;\">missing</td><td style = \"font-style: italic; text-align: right;\">missing</td><td style = \"font-style: italic; text-align: right;\">missing</td><td style = \"font-style: italic; text-align: right;\">missing</td><td style = \"font-style: italic; text-align: right;\">missing</td><td style = \"font-style: italic; text-align: right;\">missing</td><td style = \"font-style: italic; text-align: right;\">missing</td><td style = \"font-style: italic; text-align: right;\">missing</td></tr><tr><td class = \"rowNumber\" style = \"font-weight: bold; text-align: right;\">8001488</td><td style = \"text-align: right;\">2025</td><td style = \"text-align: right;\">69487</td><td style = \"text-align: right;\">2</td><td style = \"text-align: right;\">5896.4</td><td style = \"text-align: right;\">20241106963600</td><td style = \"font-style: italic; text-align: right;\">missing</td><td style = \"font-style: italic; text-align: right;\">missing</td><td style = \"font-style: italic; text-align: right;\">missing</td><td style = \"text-align: right;\">31</td><td style = \"font-style: italic; text-align: right;\">missing</td><td style = \"font-style: italic; text-align: right;\">missing</td><td style = \"font-style: italic; text-align: right;\">missing</td><td style = \"font-style: italic; text-align: right;\">missing</td><td style = \"text-align: right;\">2</td><td style = \"text-align: right;\">7135.61</td><td style = \"text-align: right;\">20241106963602</td><td style = \"text-align: right;\">202411069636021</td><td style = \"font-style: italic; text-align: right;\">missing</td><td style = \"font-style: italic; text-align: right;\">missing</td><td style = \"font-style: italic; text-align: right;\">missing</td><td style = \"font-style: italic; text-align: right;\">missing</td><td style = \"font-style: italic; text-align: right;\">missing</td><td style = \"font-style: italic; text-align: right;\">missing</td><td style = \"font-style: italic; text-align: right;\">missing</td><td style = \"font-style: italic; text-align: right;\">missing</td><td style = \"font-style: italic; text-align: right;\">missing</td><td style = \"font-style: italic; text-align: right;\">missing</td><td style = \"font-style: italic; text-align: right;\">missing</td><td style = \"font-style: italic; text-align: right;\">missing</td></tr><tr><td class = \"rowNumber\" style = \"font-weight: bold; text-align: right;\">8001489</td><td style = \"text-align: right;\">2025</td><td style = \"text-align: right;\">69487</td><td style = \"text-align: right;\">2</td><td style = \"text-align: right;\">5896.4</td><td style = \"text-align: right;\">20241106963600</td><td style = \"font-style: italic; text-align: right;\">missing</td><td style = \"font-style: italic; text-align: right;\">missing</td><td style = \"font-style: italic; text-align: right;\">missing</td><td style = \"text-align: right;\">31</td><td style = \"font-style: italic; text-align: right;\">missing</td><td style = \"font-style: italic; text-align: right;\">missing</td><td style = \"font-style: italic; text-align: right;\">missing</td><td style = \"font-style: italic; text-align: right;\">missing</td><td style = \"text-align: right;\">3</td><td style = \"text-align: right;\">4350.97</td><td style = \"text-align: right;\">20241106963603</td><td style = \"text-align: right;\">202411069636031</td><td style = \"font-style: italic; text-align: right;\">missing</td><td style = \"font-style: italic; text-align: right;\">missing</td><td style = \"font-style: italic; text-align: right;\">missing</td><td style = \"font-style: italic; text-align: right;\">missing</td><td style = \"font-style: italic; text-align: right;\">missing</td><td style = \"font-style: italic; text-align: right;\">missing</td><td style = \"font-style: italic; text-align: right;\">missing</td><td style = \"font-style: italic; text-align: right;\">missing</td><td style = \"font-style: italic; text-align: right;\">missing</td><td style = \"font-style: italic; text-align: right;\">missing</td><td style = \"font-style: italic; text-align: right;\">missing</td><td style = \"font-style: italic; text-align: right;\">missing</td></tr><tr><td class = \"rowNumber\" style = \"font-weight: bold; text-align: right;\">8001490</td><td style = \"text-align: right;\">2025</td><td style = \"text-align: right;\">69487</td><td style = \"text-align: right;\">2</td><td style = \"text-align: right;\">5896.4</td><td style = \"text-align: right;\">20241106963600</td><td style = \"font-style: italic; text-align: right;\">missing</td><td style = \"font-style: italic; text-align: right;\">missing</td><td style = \"font-style: italic; text-align: right;\">missing</td><td style = \"text-align: right;\">31</td><td style = \"font-style: italic; text-align: right;\">missing</td><td style = \"font-style: italic; text-align: right;\">missing</td><td style = \"font-style: italic; text-align: right;\">missing</td><td style = \"font-style: italic; text-align: right;\">missing</td><td style = \"text-align: right;\">4</td><td style = \"text-align: right;\">5266.84</td><td style = \"text-align: right;\">20241106963604</td><td style = \"text-align: right;\">202411069636041</td><td style = \"font-style: italic; text-align: right;\">missing</td><td style = \"font-style: italic; text-align: right;\">missing</td><td style = \"font-style: italic; text-align: right;\">missing</td><td style = \"font-style: italic; text-align: right;\">missing</td><td style = \"font-style: italic; text-align: right;\">missing</td><td style = \"font-style: italic; text-align: right;\">missing</td><td style = \"font-style: italic; text-align: right;\">missing</td><td style = \"font-style: italic; text-align: right;\">missing</td><td style = \"font-style: italic; text-align: right;\">missing</td><td style = \"font-style: italic; text-align: right;\">missing</td><td style = \"font-style: italic; text-align: right;\">missing</td><td style = \"font-style: italic; text-align: right;\">missing</td></tr><tr><td class = \"rowNumber\" style = \"font-weight: bold; text-align: right;\">8001491</td><td style = \"text-align: right;\">2025</td><td style = \"text-align: right;\">69487</td><td style = \"text-align: right;\">2</td><td style = \"text-align: right;\">5896.4</td><td style = \"text-align: right;\">20241106963600</td><td style = \"font-style: italic; text-align: right;\">missing</td><td style = \"font-style: italic; text-align: right;\">missing</td><td style = \"font-style: italic; text-align: right;\">missing</td><td style = \"text-align: right;\">31</td><td style = \"font-style: italic; text-align: right;\">missing</td><td style = \"font-style: italic; text-align: right;\">missing</td><td style = \"font-style: italic; text-align: right;\">missing</td><td style = \"font-style: italic; text-align: right;\">missing</td><td style = \"text-align: right;\">5</td><td style = \"text-align: right;\">4871.19</td><td style = \"text-align: right;\">20241106963605</td><td style = \"text-align: right;\">202411069636051</td><td style = \"font-style: italic; text-align: right;\">missing</td><td style = \"font-style: italic; text-align: right;\">missing</td><td style = \"font-style: italic; text-align: right;\">missing</td><td style = \"font-style: italic; text-align: right;\">missing</td><td style = \"font-style: italic; text-align: right;\">missing</td><td style = \"font-style: italic; text-align: right;\">missing</td><td style = \"font-style: italic; text-align: right;\">missing</td><td style = \"font-style: italic; text-align: right;\">missing</td><td style = \"font-style: italic; text-align: right;\">missing</td><td style = \"font-style: italic; text-align: right;\">missing</td><td style = \"font-style: italic; text-align: right;\">missing</td><td style = \"font-style: italic; text-align: right;\">missing</td></tr><tr><td class = \"rowNumber\" style = \"font-weight: bold; text-align: right;\">8001492</td><td style = \"text-align: right;\">2025</td><td style = \"text-align: right;\">69487</td><td style = \"text-align: right;\">2</td><td style = \"text-align: right;\">5896.4</td><td style = \"text-align: right;\">20241106963600</td><td style = \"font-style: italic; text-align: right;\">missing</td><td style = \"font-style: italic; text-align: right;\">missing</td><td style = \"font-style: italic; text-align: right;\">missing</td><td style = \"text-align: right;\">31</td><td style = \"font-style: italic; text-align: right;\">missing</td><td style = \"font-style: italic; text-align: right;\">missing</td><td style = \"font-style: italic; text-align: right;\">missing</td><td style = \"font-style: italic; text-align: right;\">missing</td><td style = \"text-align: right;\">6</td><td style = \"text-align: right;\">4617.23</td><td style = \"text-align: right;\">20241106963606</td><td style = \"text-align: right;\">202411069636061</td><td style = \"font-style: italic; text-align: right;\">missing</td><td style = \"font-style: italic; text-align: right;\">missing</td><td style = \"font-style: italic; text-align: right;\">missing</td><td style = \"font-style: italic; text-align: right;\">missing</td><td style = \"font-style: italic; text-align: right;\">missing</td><td style = \"font-style: italic; text-align: right;\">missing</td><td style = \"font-style: italic; text-align: right;\">missing</td><td style = \"font-style: italic; text-align: right;\">missing</td><td style = \"font-style: italic; text-align: right;\">missing</td><td style = \"font-style: italic; text-align: right;\">missing</td><td style = \"font-style: italic; text-align: right;\">missing</td><td style = \"font-style: italic; text-align: right;\">missing</td></tr></tbody></table></div>"
      ],
      "text/latex": [
       "\\begin{tabular}{r|cccccccccc}\n",
       "\t& YEAR & SERIAL & MONTH & HWTFINL & CPSID & ASECFLAG & HFLAG & ASECWTH & STATECENSUS & \\\\\n",
       "\t\\hline\n",
       "\t& Int64 & Int64 & Int64 & Float64? & Int64 & Int64? & Int64? & Float64? & Int64 & \\\\\n",
       "\t\\hline\n",
       "\t1 & 2009 & 1 & 3 & \\emph{missing} & 20071202814500 & 1 & \\emph{missing} & 534.34 & 11 & $\\dots$ \\\\\n",
       "\t2 & 2009 & 1 & 3 & \\emph{missing} & 20071202814500 & 1 & \\emph{missing} & 534.34 & 11 & $\\dots$ \\\\\n",
       "\t3 & 2009 & 2 & 3 & \\emph{missing} & 20071202885100 & 1 & \\emph{missing} & 546.24 & 11 & $\\dots$ \\\\\n",
       "\t4 & 2009 & 2 & 3 & \\emph{missing} & 20071202885100 & 1 & \\emph{missing} & 546.24 & 11 & $\\dots$ \\\\\n",
       "\t5 & 2009 & 3 & 3 & \\emph{missing} & 20071202862500 & 1 & \\emph{missing} & 287.76 & 11 & $\\dots$ \\\\\n",
       "\t6 & 2009 & 3 & 3 & \\emph{missing} & 20071202862500 & 1 & \\emph{missing} & 287.76 & 11 & $\\dots$ \\\\\n",
       "\t7 & 2009 & 3 & 3 & \\emph{missing} & 20071202862500 & 1 & \\emph{missing} & 287.76 & 11 & $\\dots$ \\\\\n",
       "\t8 & 2009 & 3 & 3 & \\emph{missing} & 20071202862500 & 1 & \\emph{missing} & 287.76 & 11 & $\\dots$ \\\\\n",
       "\t9 & 2009 & 3 & 3 & \\emph{missing} & 20071202862500 & 1 & \\emph{missing} & 287.76 & 11 & $\\dots$ \\\\\n",
       "\t10 & 2009 & 4 & 3 & \\emph{missing} & 20071202847400 & 1 & \\emph{missing} & 285.36 & 11 & $\\dots$ \\\\\n",
       "\t11 & 2009 & 4 & 3 & \\emph{missing} & 20071202847400 & 1 & \\emph{missing} & 285.36 & 11 & $\\dots$ \\\\\n",
       "\t12 & 2009 & 4 & 3 & \\emph{missing} & 20071202847400 & 1 & \\emph{missing} & 285.36 & 11 & $\\dots$ \\\\\n",
       "\t13 & 2009 & 5 & 3 & \\emph{missing} & 20071202888600 & 1 & \\emph{missing} & 528.13 & 11 & $\\dots$ \\\\\n",
       "\t14 & 2009 & 6 & 3 & \\emph{missing} & 20071202874500 & 1 & \\emph{missing} & 287.76 & 11 & $\\dots$ \\\\\n",
       "\t15 & 2009 & 6 & 3 & \\emph{missing} & 20071202874500 & 1 & \\emph{missing} & 287.76 & 11 & $\\dots$ \\\\\n",
       "\t16 & 2009 & 6 & 3 & \\emph{missing} & 20071202874500 & 1 & \\emph{missing} & 287.76 & 11 & $\\dots$ \\\\\n",
       "\t17 & 2009 & 6 & 3 & \\emph{missing} & 20071202874500 & 1 & \\emph{missing} & 287.76 & 11 & $\\dots$ \\\\\n",
       "\t18 & 2009 & 8 & 3 & \\emph{missing} & 20071202834600 & 1 & \\emph{missing} & 285.36 & 11 & $\\dots$ \\\\\n",
       "\t19 & 2009 & 8 & 3 & \\emph{missing} & 20071202834600 & 1 & \\emph{missing} & 285.36 & 11 & $\\dots$ \\\\\n",
       "\t20 & 2009 & 8 & 3 & \\emph{missing} & 20071202834600 & 1 & \\emph{missing} & 285.36 & 11 & $\\dots$ \\\\\n",
       "\t21 & 2009 & 8 & 3 & \\emph{missing} & 20071202834600 & 1 & \\emph{missing} & 285.36 & 11 & $\\dots$ \\\\\n",
       "\t22 & 2009 & 9 & 3 & \\emph{missing} & 20080102899200 & 1 & \\emph{missing} & 257.81 & 11 & $\\dots$ \\\\\n",
       "\t23 & 2009 & 9 & 3 & \\emph{missing} & 20080102899200 & 1 & \\emph{missing} & 257.81 & 11 & $\\dots$ \\\\\n",
       "\t24 & 2009 & 9 & 3 & \\emph{missing} & 20080102899200 & 1 & \\emph{missing} & 257.81 & 11 & $\\dots$ \\\\\n",
       "\t25 & 2009 & 9 & 3 & \\emph{missing} & 20080102899200 & 1 & \\emph{missing} & 257.81 & 11 & $\\dots$ \\\\\n",
       "\t26 & 2009 & 9 & 3 & \\emph{missing} & 20080102899200 & 1 & \\emph{missing} & 257.81 & 11 & $\\dots$ \\\\\n",
       "\t27 & 2009 & 10 & 3 & \\emph{missing} & 20080102879600 & 1 & \\emph{missing} & 483.39 & 11 & $\\dots$ \\\\\n",
       "\t28 & 2009 & 10 & 3 & \\emph{missing} & 20080102879600 & 1 & \\emph{missing} & 483.39 & 11 & $\\dots$ \\\\\n",
       "\t29 & 2009 & 10 & 3 & \\emph{missing} & 20080102879600 & 1 & \\emph{missing} & 483.39 & 11 & $\\dots$ \\\\\n",
       "\t30 & 2009 & 10 & 3 & \\emph{missing} & 20080102879600 & 1 & \\emph{missing} & 483.39 & 11 & $\\dots$ \\\\\n",
       "\t$\\dots$ & $\\dots$ & $\\dots$ & $\\dots$ & $\\dots$ & $\\dots$ & $\\dots$ & $\\dots$ & $\\dots$ & $\\dots$ &  \\\\\n",
       "\\end{tabular}\n"
      ],
      "text/plain": [
       "\u001b[1m8001492×29 DataFrame\u001b[0m\n",
       "\u001b[1m     Row \u001b[0m│\u001b[1m YEAR  \u001b[0m\u001b[1m SERIAL \u001b[0m\u001b[1m MONTH \u001b[0m\u001b[1m HWTFINL    \u001b[0m\u001b[1m CPSID          \u001b[0m\u001b[1m ASECFLAG \u001b[0m\u001b[1m HFLAG  \u001b[0m ⋯\n",
       "         │\u001b[90m Int64 \u001b[0m\u001b[90m Int64  \u001b[0m\u001b[90m Int64 \u001b[0m\u001b[90m Float64?   \u001b[0m\u001b[90m Int64          \u001b[0m\u001b[90m Int64?   \u001b[0m\u001b[90m Int64? \u001b[0m ⋯\n",
       "─────────┼──────────────────────────────────────────────────────────────────────\n",
       "       1 │  2009       1      3 \u001b[90m missing    \u001b[0m 20071202814500         1 \u001b[90m missing\u001b[0m ⋯\n",
       "       2 │  2009       1      3 \u001b[90m missing    \u001b[0m 20071202814500         1 \u001b[90m missing\u001b[0m\n",
       "       3 │  2009       2      3 \u001b[90m missing    \u001b[0m 20071202885100         1 \u001b[90m missing\u001b[0m\n",
       "       4 │  2009       2      3 \u001b[90m missing    \u001b[0m 20071202885100         1 \u001b[90m missing\u001b[0m\n",
       "       5 │  2009       3      3 \u001b[90m missing    \u001b[0m 20071202862500         1 \u001b[90m missing\u001b[0m ⋯\n",
       "       6 │  2009       3      3 \u001b[90m missing    \u001b[0m 20071202862500         1 \u001b[90m missing\u001b[0m\n",
       "       7 │  2009       3      3 \u001b[90m missing    \u001b[0m 20071202862500         1 \u001b[90m missing\u001b[0m\n",
       "       8 │  2009       3      3 \u001b[90m missing    \u001b[0m 20071202862500         1 \u001b[90m missing\u001b[0m\n",
       "       9 │  2009       3      3 \u001b[90m missing    \u001b[0m 20071202862500         1 \u001b[90m missing\u001b[0m ⋯\n",
       "      10 │  2009       4      3 \u001b[90m missing    \u001b[0m 20071202847400         1 \u001b[90m missing\u001b[0m\n",
       "      11 │  2009       4      3 \u001b[90m missing    \u001b[0m 20071202847400         1 \u001b[90m missing\u001b[0m\n",
       "    ⋮    │   ⋮      ⋮       ⋮        ⋮             ⋮            ⋮         ⋮    ⋱\n",
       " 8001483 │  2025   69485      2     4776.44  20250206948500 \u001b[90m  missing \u001b[0m\u001b[90m missing\u001b[0m\n",
       " 8001484 │  2025   69485      2     4776.44  20250206948500 \u001b[90m  missing \u001b[0m\u001b[90m missing\u001b[0m ⋯\n",
       " 8001485 │  2025   69486      2     4271.33  20231100759000 \u001b[90m  missing \u001b[0m\u001b[90m missing\u001b[0m\n",
       " 8001486 │  2025   69486      2     4271.33  20231100759000 \u001b[90m  missing \u001b[0m\u001b[90m missing\u001b[0m\n",
       " 8001487 │  2025   69487      2     5896.4   20241106963600 \u001b[90m  missing \u001b[0m\u001b[90m missing\u001b[0m\n",
       " 8001488 │  2025   69487      2     5896.4   20241106963600 \u001b[90m  missing \u001b[0m\u001b[90m missing\u001b[0m ⋯\n",
       " 8001489 │  2025   69487      2     5896.4   20241106963600 \u001b[90m  missing \u001b[0m\u001b[90m missing\u001b[0m\n",
       " 8001490 │  2025   69487      2     5896.4   20241106963600 \u001b[90m  missing \u001b[0m\u001b[90m missing\u001b[0m\n",
       " 8001491 │  2025   69487      2     5896.4   20241106963600 \u001b[90m  missing \u001b[0m\u001b[90m missing\u001b[0m\n",
       " 8001492 │  2025   69487      2     5896.4   20241106963600 \u001b[90m  missing \u001b[0m\u001b[90m missing\u001b[0m ⋯\n",
       "\u001b[36m                                             22 columns and 8001471 rows omitted\u001b[0m"
      ]
     },
     "execution_count": 9,
     "metadata": {},
     "output_type": "execute_result"
    }
   ],
   "source": [
    "ddi = parse_ddi(\"../../data/exp_raw/ipums_cps/cps_00001.xml\")\n",
    "df = load_ipums_extract(ddi, \"../../data/exp_raw/ipums_cps/cps_00001.dat\")"
   ]
  },
  {
   "cell_type": "code",
   "execution_count": 10,
   "id": "01e473f8",
   "metadata": {},
   "outputs": [
    {
     "name": "stdout",
     "output_type": "stream",
     "text": [
      "User-provided description:  Socioeconomic data to analyze deaths of despair by state\n",
      "\n",
      "\n",
      "Publications and research reports based on the IPUMS CPS database must cite it appropriately. The citation should include the following:\n",
      "\n",
      "Sarah Flood, Miriam King, Renae Rodgers, Steven Ruggles, J. Robert Warren, Daniel Backman, Annie Chen, Grace Cooper, Stephanie Richards, Megan Schouweiler, and Michael Westberry. IPUMS CPS: Version 12.0 [dataset]. Minneapolis, MN: IPUMS, 2024. https://doi.org/10.18128/D030.V12.0\n",
      "\n",
      "The licensing agreement for use of IPUMS CPS data requires that users supply us with the title and full citation for any publications, research reports, or educational materials making use of the data or documentation. Please add your citation to the IPUMS bibliography: http://bibliography.ipums.org/\n",
      "\n",
      "\n",
      "2025-04-08\n",
      "\n",
      "\n",
      "Users of IPUMS CPS data must agree to abide by the conditions of use. A user's license is valid for one year and may be renewed.  Users must agree to the following conditions:\n",
      "\n",
      "(1) No fees may be charged for use or distribution of the data.  All persons are granted a limited license to use these data, but you may not charge a fee for the data if you distribute it to others.\n",
      "\n",
      "(2) Cite IPUMS appropriately.  For information on proper citation,  refer to the citation requirement section of this DDI document.\n",
      "\n",
      "(3) Tell us about any work you do using the IPUMS.  Publications, research  reports, or presentations making use of IPUMS CPS should be added to our  Bibliography. Continued funding for the IPUMS depends on our ability to  show our sponsor agencies that researchers are using the data for productive  purposes.\n",
      "\n",
      "(4) Use it for GOOD -- never for EVIL.\n",
      "\n",
      "\n",
      "IPUMS CPS\n",
      "\n",
      "\n"
     ]
    }
   ],
   "source": [
    "meta_info = DataFrames.metadata(df)\n",
    "for md in keys(meta_info)\n",
    "  println(\"$(meta_info[md])\\n\\n\")\n",
    "end"
   ]
  },
  {
   "cell_type": "code",
   "execution_count": 11,
   "id": "53b323b8",
   "metadata": {},
   "outputs": [
    {
     "name": "stdout",
     "output_type": "stream",
     "text": [
      "YEAR reports the year in which the survey was conducted.  YEARP is repeated on person records.\n",
      "\n",
      "\n",
      "SERIAL is an identifying number unique to each household in a given survey month and year.  All person records are assigned the same serial number as the household record they follow.  A combination of YEAR, MONTH, and SERIAL provides a within-sample unique identifier for every household in IPUMS-CPS; YEAR, MONTH, SERIAL, and PERNUM uniquely identify every person within a single sample.\n",
      "\n",
      "SERIAL is a new value generated for IPUMS-CPS and should not be confused with the household serial number created by the Census Bureau and included in the original CPS data.\n",
      "\n",
      "\n",
      "MONTH indicates the calendar month of the CPS interview.\n",
      "\n",
      "\n",
      "HWTFINL is a household-level weight that should be used to generate statistics about households. The CPS uses a complex stratified sampling scheme, and HWTFINL must be used to produce unbiased household-level statistics from IPUMS-CPS basic monthly samples. For analyses of March Annual Social and Economic (ASEC) data, researchers should use HWTSUPP (This variable was renamed. Please see this renaming scheme for more information.). For individual-level analyses, researchers should use WTFINL, WTSUPP, or EARNWT. \n",
      "\n",
      "HWTFINL generally has the same value as WTFINL for the household head or reference person. Vacant housing units and households that could not be interviewed due to residents' absence or refusal to participate have a value of zero in HWTFINL; such sampled units were included in the public use CPS data beginning in 1988.\n",
      "\n",
      "\n",
      "CPSID is an IPUMS-CPS defined variable that uniquely identifies households across CPS samples. The first six digits of CPSID index the four-digit year and two-digit month that the household was first in the CPS. CPSID allows users to link a household record across samples, based on the 4-8-4 rotation pattern, by assigning a unique CPSID value based on a combination of household identifiers. CPSID will only ever appear for a maximum of 8 times, which is the number of times a household may be observed in the CPS survey (as indexed by MISH). In some cases, a household will appear fewer than 8 times due to migration, mortality, non-response, and recording errors. CPSID Extensive documentation about the creation of CPSID is available elsewhere.\n",
      "\n",
      "CPSID may also be used to link ASEC respondents who are in the March Basic Monthly file to other months of CPS data. This linking is made possible by IPUMS through the creation of MARBASECIDP. Users should note that ASEC oversample households (as indicated by ASECOVERH) will always have a CPSID value of 0.\n",
      "\n",
      "Users may also want to see CPSIDP for more information about linking individuals across time using a person-specific version of CPSID.\n",
      "\n",
      "\n",
      "ASECFLAG indicates whether the respondent is part of the ASEC or the March Basic. This variable is useful for users who wish to distinguish ASEC and March Basic files in their extracts. See further information about the ASEC versus the March Basic Monthly Files.\n",
      "\n",
      "\n",
      "HFLAG indicates whether the respondent is part of the 3/8 redesign in the 2014 ASEC sample. This variable is useful for users who wish to analyze income and SPM variables in the 2014 ASEC sample. See further information about the 2014 survey redesign.\n",
      "\n",
      "\n",
      "ASECWTH is a household-level weight that should be used to generate statistics about households in March Annual Social and Economic (ASEC) Supplement data. The CPS uses a complex stratified sampling scheme, and ASECWTH must be used to produce unbiased household-level statistics from the IPUMS-CPS ASEC data. For analyses of non-ASEC data, researchers should use HWTFINL. For individual-level analyses, researchers should use WTFINL, ASECWT, or EARNWT. \n",
      "\n",
      "ASECWTH generally has the same value as WTSUPP for the household head or reference person. Vacant housing units and households that could not be interviewed due to residents' absence or refusal to participate have a value of zero in HWTSUPP; such sampled units were included in the public use CPS data beginning in 1988. \n",
      "\n",
      "Estimates on the entire population are prepared by projecting forward the resident population from the last available census. These projections are derived by updating the demographic census data from a number of other data sources that account for death, births and net migration. About 3 years after every census (i.e. 2003 for the 2000 Census and 2013 for the 2010 Census), the Census Bureau updates its independent population control and provides a new weight for the relevant years.\n",
      "\n",
      "Two important points should be noted here. First, the lag between when the Census is conducted and when the CPS weights are updated is about 3 years. While the Census data are being processed, the CPS files are made available using the weighting scheme from the US Census prior to the latest Census. Second, once the files are updated, the old weights become obsolete and are replaced in the IPUMS data extract system. Published estimates from the lag years that use the old weights are not always updated. For example, 2010 poverty estimates were released in ASEC using the 2000 population controls. Once the 2010 population controls were made available, IPUMS-CPS replaced the ASEC 2010, 2011, and 2012 weights that are based on the 2000 population control with weights that are based on the 2010 population controls.\n",
      "\n",
      "IPUMS-CPS makes available only the most up-to-date weights. The old values are available here: Old SPM and Weights Values.\n",
      "\n",
      "\n",
      "STATECENSUS identifies the household's state of residence using Census state codes.\n",
      "\n",
      "\n",
      "HHINCOME reports the total money income during the previous calendar year of all adult household members.  The amount should equal the sum of all household members' individual incomes as recorded in the IPUMS-CPS variable INCTOT.  The persons included were those present in the household at the time of the survey.  People who lived in the household during the previous year but were not still living there at the time of the survey are not included; household members who lived elsewhere during the previous year but had joined the household at the time of the survey are included.\n",
      "\n",
      "\n",
      "PROPTAX indicates the amount of annual property taxes that paid by the household during the previous calendar year.  Amounts are reported in dollars.\n",
      "\n",
      "PROPTAX, like other tax-related variables included in the ASEC CPS (person level variables ADJGINC, CAPGAIN, CAPLOSS, EITCRED, FEDRETIR, FEDTAX, FICA, FILESTAT, MARGTAX, STATETAX, and TAXINC) was not determined by direct questioning of respondents.  Rather, values for these variables come from the Census Bureau's tax model, which simulates individual tax returns to produce estimates of federal, state, and payroll taxes. The model incorporates information from non-CPS sources, such as the Internal Revenue Service's Statistics of Income series, the American Housing Survey, and the State Tax Handbook. For more information about the model, see Current Population Reports, Series P60-186RD. The IPUMS-CPS staff welcomes further information from users about the interpretation of this variable or other tax-related variables in the ASEC CPS.\n",
      "\n",
      "Amounts for PROPTAX are expressed in dollars of the given year, rather than in constant dollars adjusted for inflation.  Users can adjust for inflation using Consumer Price Index adjustment factors.\n",
      "\n",
      "\n",
      "FOODSTMP indicates whether one or more members of the household received benefits from the Supplement Nutrition Assistance Program (SNAP) during the prior year. This program is formerly known as the Food Stamps program.\n",
      "\n",
      "Once such a household was identified, three follow-up questions were asked.  The first question determined the number of current household members covered by Food Stamps during the previous calendar year (STAMPNO).  The second question determined the number of months that Food Stamps were received during the previous year (STAMPMO).  Finally, a last question determined the total face value of Food Stamps received during that period (STAMPVAL).\n",
      "\n",
      "The Food Stamp Act of 1977 was enacted to increase the food purchasing power of eligible households through the use of coupons to purchase food. The Food and Nutrition Service of the U.S. Department of Agriculture (USDA) administers the Food Stamp Program through State and local welfare offices. The Food Stamp Program is the major national income support program which provides benefits to all low-income and low-resource households, regardless of the person's characteristics (e.g., sex, age, disability, etc.). The Food Stamps program was renamed SNAP as part of the Farm Bill of 2008.\n",
      "\n",
      "For some variables relating to means-tested government assistance, including FOODSTMP, information was collected only from households whose estimated income fell below a given threshold.  During the first month that a household entered the survey, and one year later, the CPS interviewer asked the respondent to estimate the family's total income in the past twelve months, by choosing one of fourteen broad categories.  Only households in which the household members' combined income fell below a given level (e.g., under 30,000 dollars in the 1980s) were questioned about means-tested program benefits.  Households with estimated incomes above the threshold were presumed to neither qualify for nor receive such benefits, and were not asked these questions, to limit the length of interviews.  Households that were not questioned were coded as \"no\" for several variables relating to the receipt of means-tested benefits, including FOODSTMP.\n",
      "\n",
      "\n",
      "STAMPMO specifies the number of months the household received Food Stamps during the previous calendar year. For information about the Food Stamp program, see (FOODSTMP).\n",
      "\n",
      "\n",
      "PERNUM numbers all persons within each household consecutively (starting with \"1\") in the order in which they are listed in the original CPS data.  When combined with YEAR , MONTH, and SERIAL, PERNUM uniquely identifies each person within IPUMS-CPS samples, though not across IPUMS-CPS samples.\n",
      "\n",
      "\n",
      "WTFINL is the final person-level weight that should be used in analyses of basic monthly data. \n",
      "\n",
      "When analyzing ASEC data, researchers should use the person weight ASECWT. For analyses including the variables EARNWEEK, HOURWAGE, PAIDHOUR, and UNION, researchers should use the EARNWT variable. \n",
      "\n",
      "WTFINL is the second stage weight in CPS (see technical documentation). It is based on the inverse probability of selection into the sample and adjustments for the following factors: failure to obtain an interview; sampling within large sample units; adjustments to the known distribution of the entire population according to stage, age, sex, race, and Hispanic ethnicity; and allotting a weight of zero to populations not sampled in other monthly surveys (i.e., persons in the Hispanic oversample and members of the armed forces in ASEC samples).\n",
      "\n",
      "\n",
      "CPSIDP is an IPUMS CPS defined variable that uniquely identifies individuals across CPS samples. The first six digits of CPSIDP index the four-digit year and two-digit month that the household was first in the CPS. CPSIDP allows users to link a respondent appearing with a designated household roster line number (LINENO) across samples, based on the 4-8-4 rotation pattern, by assigning a unique CPSIDP value to this line number. CPSIDP will only ever appear for a maximum of 8 times, which is the number of times a household may be observed in the CPS survey (as indexed by MISH). In some cases, individuals will appear fewer than 8 times due to migration, mortality, non-response, and recording errors. Extensive documentation about the creation of CPSIDP is available elsewhere.\n",
      "\n",
      "Users should note that it is important to verify CPSIDP linkages with AGE, SEX, and RACE. In some cases CPSIDP will result in erroneous links, which are due to errors in the source data. Cases with the same CPSIDP value may also have inconsistent responses across samples due to errors on the part of the respondent or in recording the response. Ultimately, it is up to the individual researcher to determine the acceptability of the linkages made using CPSIDP. \n",
      "\n",
      "CPSIDP may also be used to link ASEC respondents who are in the March Basic Monthly file to other months of CPS data. This linking is made possible by IPUMS through the creation of MARBASECIDP. \n",
      "\n",
      "To get started using CPSIDP, users may want to sort their data file by CPSIDP and MISH to create a person-time file. \n",
      "\n",
      "Users should take care when including the March Basic or ASEC as part of their linking. Respondents who are part of the ASEC oversample (as indicated by ASECOVERP) have a CPSIDP value of 0. For further information about the relationship between the March Basic and the ASEC, please see our additional documentation.\n",
      "\n",
      "\n",
      "CPSIDV is an IPUMS CPS-created variable that uniquely identifies individuals across CPS samples. In addition to linking records across the CPS 4-8-4 rotation pattern, CPSIDV only makes links between those records whose SEX and RACE values do not change and whose AGE values change in expected ways over time. \n",
      "\n",
      "CPSIDV is based on CPSIDP and so there are some structural similarities between them. The first six digits of CPSIDV are identical to CPSIDP - the four-digit year and two-digit month that the household was first in the CPS. Like CPSIDP, CPSIDV allows users to link a respondent appearing with a designated household roster line number (LINENO) across samples, based on the 4-8-4 rotation pattern. \n",
      "\n",
      "Only records that link using CPSIDP that also have consistent race and sex values and age values that increase at least one but not more than two years over the course of the 16-month CPS rotation are linkable using CPSIDV. As a result, linkage rates using CPSIDV are slightly lower than those achieved using CPSIDP. However, linkages created with CPSIDV do not require the recommended post-linking verification steps recommended for use with CPSIDP links. Users should note that original, unharmonized values of age, sex, and race are used in the creation of CPSIDV. The procedure and validation criteria for creating CPSIDV are described in detail in A Holistic Approach to Validating Current Population Survey Panel Data. \n",
      "\n",
      "CPSIDV may also be used to link ASEC respondents who are in the March Basic Monthly file to other months of CPS data. This linking is made possible by IPUMS through the creation of MARBASECIDP. \n",
      "\n",
      "To get started using CPSIDV, users may want to sort their data file by CPSIDV and MISH to create a person-time file. \n",
      "\n",
      "Users should take care when including the March Basic or ASEC as part of their linking. Respondents who are part of the ASEC oversample (as indicated by ASECOVERP) have a CPSIDV value of 0. For further information about the relationship between the March Basic and the ASEC, please see our additional documentation.\n",
      "\n",
      "\n",
      "ASECWT is a person-level weight that should be used in analyses of individual-level CPS supplement data. Since the CPS relies on a complex stratified sampling scheme, it is essential to use one of the provided weighting variables.\n",
      "\n",
      "Researchers should use WTFINL rather than ASECWT when they wish to conduct person-level analyses of non-ASEC data. EARNWT should be used for any analysis including a small number of person-level variables (EARNWEEK, HOURWAGE, PAIDHOUR, and UNION). Researchers should use ASECWTH for household-level analyses. ASECWTCVD is available for the 2020 ASEC to adjust for nonrandom nonresponse resulting from the COVID-19 pandemic.\n",
      "\n",
      "User Caution: For analyses that include the 2014 ASEC sample, please see the comparability tab.\n",
      "\n",
      "The ASEC CPS files include two groups of people who are not included in the production of published labor force statistics: (1) members of the armed services, and (2) members of the Hispanic oversample who were interviewed in months other than March. WTFINL and EARNWT assign these groups a value of 0. Both groups are assigned non-zero values in ASECWT.\n",
      "\n",
      "ASECWT is based on the inverse probability of selection into the sample and adjustments for the following factors: failure to obtain an interview; sampling within large sample units; the known distribution of the entire population according to age, sex, and race; over-sampling Hispanic persons; to give husbands and wives the same weight; and an additional step to provide consistency with labor force estimates from the basic survey. \n",
      "\n",
      "Estimates on the entire population are prepared by projecting forward the resident population from the last available census. These projections are derived by updating the demographic census data from a number of other data sources that account for death, births and net migration. About 3 years after every census (i.e. 2003 for the 2000 Census and 2013 for the 2010 Census), the Census Bureau updates its independent population control and provides a new weight for the relevant years.\n",
      "\n",
      "Two important points should be noted here. First, the lag between when the Census is conducted and when the CPS weights are updated is about 3 years. While the Census data are being processed, the CPS files are made available using the weighting scheme from the US Census prior to the latest Census. Second, once the files are updated, the old weights become obsolete and are replaced in the IPUMS data extract system. Published estimates from the lag years that use the old weights are not always updated. For example, 2010 poverty estimates were released in ASEC using the 2000 population controls. Once the 2010 population controls were made available, IPUMS-CPS replaced the ASEC 2010, 2011, and 2012 weights that are based on the 2000 population control with weights that are based on the 2010 population controls. IPUMS-CPS makes available only the most up-to-date weights.\n",
      "\n",
      "\n",
      "UCUNION indicates whether the respondent was a union member or was covered by a union in their last job.\n",
      "\n",
      "See the Unemployment Compensation Supplement notes for more information on using this dataset.\n",
      "\n",
      "\n",
      "OFFPOV is the official poverty classification used for replicating official poverty rates. OFFPOV differs from POVERTY in that it corrects for errors in the POVERTY variable. The main difference between OFFPOV and POVERTY is that OFFPOV only assigns a poverty classification to those persons in the poverty universe. Other differences are explained in the \"Differences between OFFPOV and POVERTY\" section of the Replicating Official Poverty note.\n",
      "\n",
      "\n",
      "FOODSTAMP reports the family market value of food stamps --the Supplemental Nutrition Assistance Program (SNAP). \"Family market value\" refers to the total monetary value of food stamps received by a given family within the household. All members of the same family will have the same FOODSTAMP response.\n",
      "\n",
      "For the SPM measure of family SNAP benefits, seeSPMSNAP.\n",
      "\n",
      "\n",
      "HOUSSUB reports the family market value of public housing subsidies. \"Family market value\" refers to the total monetary value of housing subsidies received by a given family within the household. All members of the same family will have the same HOUSSUB response.\n",
      "\n",
      "Note that the reference period for HOUSSUB is the previous calendar year, but the reported value is a monthly amount. Please see this forum for more details.\n",
      "\n",
      "For the SPM measure of family housing assistance, see SPMCAPHOUS.\n",
      "\n",
      "\n",
      "SCHLLUNCH reports the family market value of school lunches. \"Family market value\" refers to the total monetary value of complete lunches provided by schools which were eaten by persons aged 5-18 in a given family within the household. All family members will have the same SCHLLUNCH value. \n",
      "\n",
      "Users should note that SCHLLUNCH does not attempt to account for school closures during 2020 and 2021 due to the COVID-19 pandemic. An adjusted calculation of school lunch values that takes into account school closures and pandemic benefits in this period for the SPM family unit is available in SPMLUNCH in the 2021 and 2022 ASEC files.\n",
      "\n",
      "\n",
      "CESOCCONTCT indicates how often a respondent heard from friends and family in a typical month over the past 12 months. The respondent was asked to include interactions whether in-person or not, and the respondent could choose Basically Every Day, A Few Times A Week, A Few Times a Month, Once a Month, Less Than Once a Month, or Not At All.\n",
      "\n",
      "Users should be aware that the universes provided in the November 2011 and 2013 codebooks do not align with the data. In the codebooks, it is stated that CESOCCONTCT was only asked of persons living alone. This is not reflected in the data. In 2011 it is also stated that only outgoing rotation groups received the supplement questions. This also does not seem to be the case in the data. IPUMS-CPS has provided CESOCCONTCT universes as they are in the data.\n",
      "\n",
      "This variable is part of the Civic Engagement Supplement.\n",
      "\n",
      "\n",
      "CESOCIALIZE indicates how often a respondent talked with any neighbors in a typical month over the past 12 months. The question did not specify whether interactions had to be in-person or not. The respondent could choose Basically Every Day, A Few Times A Week, A Few Times a Month, Once a Month, Less Than Once a Month (only available in 2011 and onwards), or Not At All.\n",
      "\n",
      "This variable is part of the Civic Engagement Supplement.\n",
      "\n",
      "\n",
      "FREVER gives the number of live births the woman ever had.\n",
      "\n",
      "In 1994, there are 10 observations for ages 45 to 83. These ages were not expected to be in the universe; however, they were included in the original data.\n",
      "\n",
      "In 1976, 1977, and 1979 there are several male records which have values for FREVER. These records had SEX allocated by IPUMS. See QSEX for details.\n",
      "\n",
      "In 1980, 1987, and 1988, all male records and females outside of the in-universe age range are coded as having zero children in the original data. These records have been recoded to NIU and have a value of 2 for QFREVER.\n",
      "\n",
      "This variable is a part of the CPS Fertility Supplement.\n",
      "\n",
      "\n",
      "TAGESMK reports the age an individual first started smoking regularly.\n",
      "\n",
      "This variable is part of the Tobacco Use Supplement.\n",
      "\n",
      "\n",
      "The average number of cigarettes smoked per day by an everyday smoker is given in TCIGDAY.\n",
      "\n",
      "This variable is part of the Tobacco Use Supplement.\n",
      "\n",
      "\n",
      "TAMSMK indicates whether or not an everyday or non-daily smoker has his/her first cigarette within 30 minutes of waking in the morning.  This variable is created from three components: the first is a number variable and the second is a unit variable.  Respondents reported how long, in minutes or hours, they wait after waking to smoke their first cigarette.  For respondents who do not give a valid time response, the third question asks whether or not the person smokes his/her first cigarette within 30 minutes of waking.  Smokers who report smoking the first cigarette 30 minutes after they wake are included as \"Yes\" respondents.\n",
      "\n",
      "This variable is part of the Tobacco Use Supplement.\n",
      "\n",
      "\n"
     ]
    }
   ],
   "source": [
    "for colname in names(df)\n",
    "  println(\"$(colmetadata(df, colname, \"description\"))\\n\\n\")\n",
    "end"
   ]
  },
  {
   "cell_type": "code",
   "execution_count": 12,
   "id": "53094221",
   "metadata": {},
   "outputs": [
    {
     "data": {
      "text/plain": [
       "Dict{String, Int64} with 56 entries:\n",
       "  \"Alaska\"                                       => 2\n",
       "  \"Colorado\"                                     => 8\n",
       "  \"Guam\"                                         => 66\n",
       "  \"Texas\"                                        => 48\n",
       "  \"Alabama\"                                      => 1\n",
       "  \"Massachusetts\"                                => 25\n",
       "  \"Vermont\"                                      => 50\n",
       "  \"Missouri\"                                     => 29\n",
       "  \"Wyoming\"                                      => 56\n",
       "  \"California\"                                   => 6\n",
       "  \"Florida\"                                      => 12\n",
       "  \"Michigan\"                                     => 26\n",
       "  \"Iowa\"                                         => 19\n",
       "  \"Maine\"                                        => 23\n",
       "  \"Tennessee\"                                    => 47\n",
       "  \"Nevada\"                                       => 32\n",
       "  \"Kentucky\"                                     => 21\n",
       "  \"Delaware\"                                     => 10\n",
       "  \"Puerto Rico\"                                  => 72\n",
       "  \"Indiana\"                                      => 18\n",
       "  \"Commonwealth of the Northern Mariana Islands\" => 69\n",
       "  \"North Carolina\"                               => 37\n",
       "  \"Pennsylvania\"                                 => 42\n",
       "  \"Louisiana\"                                    => 22\n",
       "  \"Oklahoma\"                                     => 40\n",
       "  ⋮                                              => ⋮"
      ]
     },
     "execution_count": 12,
     "metadata": {},
     "output_type": "execute_result"
    }
   ],
   "source": [
    "# filter by state\n",
    "# map state codes to state names\n",
    "# https://www.census.gov/library/reference/code-lists/ansi.html\n",
    "statefp_map = Dict(\n",
    "    \"Alabama\" => 01,\n",
    "    \"Alaska\" => 02,\n",
    "    \"American Samoa\" => 60,\n",
    "    \"Arizona\" => 04,\n",
    "    \"Arkansas\" => 05,\n",
    "    \"California\" => 06,\n",
    "    \"Colorado\" => 08,\n",
    "    \"Commonwealth of the Northern Mariana Islands\" => 69,\n",
    "    \"Connecticut\" => 09,\n",
    "    \"Delaware\" => 10,\n",
    "    \"District of Columbia\" => 11,\n",
    "    \"Florida\" => 12,\n",
    "    \"Georgia\" => 13,\n",
    "    \"Guam\" => 66,\n",
    "    \"Hawaii\" => 15,\n",
    "    \"Idaho\" => 16,\n",
    "    \"Illinois\" => 17,\n",
    "    \"Indiana\" => 18,\n",
    "    \"Iowa\" => 19,\n",
    "    \"Kansas\" => 20,\n",
    "    \"Kentucky\" => 21,\n",
    "    \"Louisiana\" => 22,\n",
    "    \"Maine\" => 23,\n",
    "    \"Maryland\" => 24,\n",
    "    \"Massachusetts\" => 25,\n",
    "    \"Michigan\" => 26,\n",
    "    \"Minnesota\" => 27,\n",
    "    \"Mississippi\" => 28,\n",
    "    \"Missouri\" => 29,\n",
    "    \"Montana\" => 30,\n",
    "    \"Nebraska\" => 31,\n",
    "    \"Nevada\" => 32,\n",
    "    \"New Hampshire\" => 33,\n",
    "    \"New Jersey\" => 34,\n",
    "    \"New Mexico\" => 35,\n",
    "    \"New York\" => 36,\n",
    "    \"North Carolina\" => 37,\n",
    "    \"North Dakota\" => 38,\n",
    "    \"Ohio\" => 39,\n",
    "    \"Oklahoma\" => 40,\n",
    "    \"Oregon\" => 41,\n",
    "    \"Pennsylvania\" => 42,\n",
    "    \"Puerto Rico\" => 72,\n",
    "    \"Rhode Island\" => 44,\n",
    "    \"South Carolina\" => 45,\n",
    "    \"South Dakota\" => 46,\n",
    "    \"Tennessee\" => 47,\n",
    "    \"Texas\" => 48,\n",
    "    \"United States Virgin Islands\" => 78,\n",
    "    \"Utah\" => 49,\n",
    "    \"Vermont\" => 50,\n",
    "    \"Virginia\" => 51,\n",
    "    \"Washington\" => 53,\n",
    "    \"West Virginia\" => 54,\n",
    "    \"Wisconsin\" => 55,\n",
    "    \"Wyoming\" => 56,\n",
    ")"
   ]
  },
  {
   "cell_type": "code",
   "execution_count": 22,
   "id": "9fd40ebd",
   "metadata": {},
   "outputs": [
    {
     "ename": "LoadError",
     "evalue": "MethodError: no method matching getindex(::DataFrameRow{DataFrame, DataFrames.Index}, ::typeof(!), ::Symbol)\nThe function `getindex` exists, but no method is defined for this combination of argument types.\n\n\u001b[0mClosest candidates are:\n\u001b[0m  getindex(::DataFrameRow, \u001b[91m::Union{AbstractString, Signed, Symbol, Unsigned}\u001b[39m)\n\u001b[0m\u001b[90m   @\u001b[39m \u001b[35mDataFrames\u001b[39m \u001b[90m~/.julia/packages/DataFrames/kcA9R/src/dataframerow/\u001b[39m\u001b[90m\u001b[4mdataframerow.jl:212\u001b[24m\u001b[39m\n\u001b[0m  getindex(::DataFrameRow, \u001b[91m::Colon\u001b[39m)\n\u001b[0m\u001b[90m   @\u001b[39m \u001b[35mDataFrames\u001b[39m \u001b[90m~/.julia/packages/DataFrames/kcA9R/src/dataframerow/\u001b[39m\u001b[90m\u001b[4mdataframerow.jl:225\u001b[24m\u001b[39m\n\u001b[0m  getindex(::DataFrameRow, \u001b[91m::Union{Colon, Regex, All, Between, Cols, InvertedIndex, AbstractVector}\u001b[39m)\n\u001b[0m\u001b[90m   @\u001b[39m \u001b[35mDataFrames\u001b[39m \u001b[90m~/.julia/packages/DataFrames/kcA9R/src/dataframerow/\u001b[39m\u001b[90m\u001b[4mdataframerow.jl:215\u001b[24m\u001b[39m\n",
     "output_type": "error",
     "traceback": [
      "MethodError: no method matching getindex(::DataFrameRow{DataFrame, DataFrames.Index}, ::typeof(!), ::Symbol)\nThe function `getindex` exists, but no method is defined for this combination of argument types.\n\n\u001b[0mClosest candidates are:\n\u001b[0m  getindex(::DataFrameRow, \u001b[91m::Union{AbstractString, Signed, Symbol, Unsigned}\u001b[39m)\n\u001b[0m\u001b[90m   @\u001b[39m \u001b[35mDataFrames\u001b[39m \u001b[90m~/.julia/packages/DataFrames/kcA9R/src/dataframerow/\u001b[39m\u001b[90m\u001b[4mdataframerow.jl:212\u001b[24m\u001b[39m\n\u001b[0m  getindex(::DataFrameRow, \u001b[91m::Colon\u001b[39m)\n\u001b[0m\u001b[90m   @\u001b[39m \u001b[35mDataFrames\u001b[39m \u001b[90m~/.julia/packages/DataFrames/kcA9R/src/dataframerow/\u001b[39m\u001b[90m\u001b[4mdataframerow.jl:225\u001b[24m\u001b[39m\n\u001b[0m  getindex(::DataFrameRow, \u001b[91m::Union{Colon, Regex, All, Between, Cols, InvertedIndex, AbstractVector}\u001b[39m)\n\u001b[0m\u001b[90m   @\u001b[39m \u001b[35mDataFrames\u001b[39m \u001b[90m~/.julia/packages/DataFrames/kcA9R/src/dataframerow/\u001b[39m\u001b[90m\u001b[4mdataframerow.jl:215\u001b[24m\u001b[39m\n",
      "",
      "Stacktrace:",
      "  [1] (::var\"#7#8\"{String})(row::DataFrameRow{DataFrame, DataFrames.Index})",
      "    @ Main ./In[22]:5",
      "  [2] (::DataFrames.var\"#105#106\"{var\"#7#8\"{String}})(x::DataFrameRow{DataFrame, DataFrames.Index})",
      "    @ DataFrames ~/.julia/packages/DataFrames/kcA9R/src/abstractdataframe/abstractdataframe.jl:1248",
      "  [3] _broadcast_getindex_evalf",
      "    @ ./broadcast.jl:678 [inlined]",
      "  [4] _broadcast_getindex",
      "    @ ./broadcast.jl:651 [inlined]",
      "  [5] getindex",
      "    @ ./broadcast.jl:610 [inlined]",
      "  [6] copy",
      "    @ ./broadcast.jl:911 [inlined]",
      "  [7] materialize(bc::Base.Broadcast.Broadcasted{Base.Broadcast.DefaultArrayStyle{1}, Nothing, DataFrames.var\"#105#106\"{var\"#7#8\"{String}}, Tuple{DataFrames.DataFrameRows{DataFrame}}})",
      "    @ Base.Broadcast ./broadcast.jl:872",
      "  [8] _filter_helper(f::Function, cols::DataFrames.DataFrameRows{DataFrame})",
      "    @ DataFrames ~/.julia/packages/DataFrames/kcA9R/src/abstractdataframe/abstractdataframe.jl:1248",
      "  [9] #filter#94",
      "    @ ~/.julia/packages/DataFrames/kcA9R/src/abstractdataframe/abstractdataframe.jl:1221 [inlined]",
      " [10] filter(f::Function, df::DataFrame)",
      "    @ DataFrames ~/.julia/packages/DataFrames/kcA9R/src/abstractdataframe/abstractdataframe.jl:1220",
      " [11] top-level scope",
      "    @ In[22]:5"
     ]
    }
   ],
   "source": [
    "new_data = DataFrame()\n",
    "for (state, _) in statefp_map\n",
    "    new_row = DataFrame(:State => state)\n",
    "    for column in names(df)\n",
    "        for row in reverse(eachrow(filter(row -> row[!, :STATECENSUS] == state, df)))\n",
    "            if row[column] != missing\n",
    "                new_row[column] = row[column]\n",
    "                break\n",
    "            end\n",
    "        end\n",
    "    end\n",
    "    # hcat that row to the dataframe\n",
    "    new_data = hcat(new_data, new_row)\n",
    "end\n",
    "new_data"
   ]
  },
  {
   "cell_type": "code",
   "execution_count": 13,
   "id": "f71f85c5",
   "metadata": {},
   "outputs": [
    {
     "name": "stdout",
     "output_type": "stream",
     "text": [
      "Number of missing rows in STATECENSUS: 0\n"
     ]
    }
   ],
   "source": [
    "# how many rows are there where the statecensus column is missing?\n",
    "missing_rows = count(ismissing, df[!, :STATECENSUS])\n",
    "println(\"Number of missing rows in STATECENSUS: $missing_rows\")"
   ]
  },
  {
   "cell_type": "code",
   "execution_count": null,
   "id": "6292d26b",
   "metadata": {},
   "outputs": [],
   "source": []
  }
 ],
 "metadata": {
  "kernelspec": {
   "display_name": "Julia 1.11.4",
   "language": "julia",
   "name": "julia-1.11"
  },
  "language_info": {
   "file_extension": ".jl",
   "mimetype": "application/julia",
   "name": "julia",
   "version": "1.11.4"
  }
 },
 "nbformat": 4,
 "nbformat_minor": 5
}
