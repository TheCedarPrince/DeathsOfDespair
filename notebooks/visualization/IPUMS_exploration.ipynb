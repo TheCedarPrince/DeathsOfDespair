{
 "cells": [
  {
   "cell_type": "code",
   "execution_count": null,
   "metadata": {},
   "outputs": [],
   "source": [
    "using DrWatson\n",
    "@quickactivate \"CategoricalDataScience\""
   ]
  },
  {
   "cell_type": "code",
   "execution_count": null,
   "id": "e78c95a4",
   "metadata": {},
   "outputs": [],
   "source": [
    "using CSV\n",
    "using DataFrames\n",
    "using IPUMS"
   ]
  },
  {
   "cell_type": "code",
   "execution_count": null,
   "id": "9a1f3519",
   "metadata": {},
   "outputs": [],
   "source": [
    "# This comes from NHGIS IPUMS Website\n",
    "api = IPUMSAPI(\"https://api.ipums.org/\", Dict(\"Authorization\" => \"59cba10d8a5da536fc06b59d68edc92f279e4ce29f54c0335f359f7c\"))"
   ]
  },
  {
   "cell_type": "code",
   "execution_count": null,
   "id": "deb87307",
   "metadata": {},
   "outputs": [],
   "source": [
    "# Gets information on status of request\n",
    "metadata, defn, msg = extract_info(api, 1, \"cps\")"
   ]
  },
  {
   "cell_type": "code",
   "execution_count": null,
   "id": "970087d7",
   "metadata": {},
   "outputs": [],
   "source": [
    "metadata"
   ]
  },
  {
   "cell_type": "code",
   "execution_count": null,
   "id": "b05e9e0c",
   "metadata": {},
   "outputs": [],
   "source": [
    "defn"
   ]
  },
  {
   "cell_type": "code",
   "execution_count": null,
   "id": "3d1ddab6",
   "metadata": {},
   "outputs": [],
   "source": [
    "msg"
   ]
  },
  {
   "cell_type": "code",
   "execution_count": null,
   "id": "44d32108",
   "metadata": {},
   "outputs": [],
   "source": [
    "# Download submitted extract data to output path of your interest\n",
    "extract_download(api, res.number, \"nhgis\"; output_path = \"file_downloads/\")"
   ]
  },
  {
   "cell_type": "code",
   "execution_count": null,
   "id": "8d9bf060",
   "metadata": {},
   "outputs": [],
   "source": [
    "ddi = parse_ddi(\"data/exp_raw/ipums_cps/cps_00001.xml\")\n",
    "df = load_ipums_extract(ddi, \"data/exp_raw/ipums_cps/cps_00001.dat\")"
   ]
  }
 ],
 "metadata": {
  "kernelspec": {
   "display_name": "Julia 1.11.4",
   "language": "julia",
   "name": "julia-1.11"
  },
  "language_info": {
   "file_extension": ".jl",
   "mimetype": "application/julia",
   "name": "julia",
   "version": "1.11.4"
  }
 },
 "nbformat": 4,
 "nbformat_minor": 5
}
