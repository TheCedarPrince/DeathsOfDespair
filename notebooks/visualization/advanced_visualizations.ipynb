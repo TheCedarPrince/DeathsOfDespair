{
 "cells": [
  {
   "cell_type": "markdown",
   "metadata": {},
   "source": [
    "# Advanced Visualizations\n",
    "\n",
    "## Set-Up"
   ]
  },
  {
   "cell_type": "code",
   "execution_count": 1,
   "metadata": {},
   "outputs": [],
   "source": [
    "using DrWatson\n",
    "@quickactivate \"CategoricalDataScience\""
   ]
  },
  {
   "cell_type": "code",
   "execution_count": 2,
   "metadata": {},
   "outputs": [],
   "source": [
    "using CairoMakie\n",
    "using CSV\n",
    "using GeoMakie\n",
    "using Polylabel\n",
    "using DataFrames\n",
    "using GeoDataFrames\n",
    "using Distributions\n",
    "using StatsBase\n",
    "using Statistics\n",
    "using SwarmMakie\n",
    "using ZipFile\n",
    "using Shapefile"
   ]
  },
  {
   "cell_type": "code",
   "execution_count": 3,
   "metadata": {},
   "outputs": [
    {
     "data": {
      "text/plain": [
       "10-element Vector{String}:\n",
       " \"Wisconsin\"\n",
       " \"Michigan\"\n",
       " \"Illinois\"\n",
       " \"Indiana\"\n",
       " \"Ohio\"\n",
       " \"Kentucky\"\n",
       " \"Tennessee\"\n",
       " \"Pennsylvania\"\n",
       " \"West Virginia\"\n",
       " \"New York\""
      ]
     },
     "execution_count": 3,
     "metadata": {},
     "output_type": "execute_result"
    }
   ],
   "source": [
    "states_of_interest = [\"Wisconsin\",\n",
    "    \"Michigan\",\n",
    "    \"Illinois\",\n",
    "    \"Indiana\",\n",
    "    \"Ohio\",\n",
    "    \"Kentucky\",\n",
    "    \"Tennessee\",\n",
    "    \"Pennsylvania\",\n",
    "    \"West Virginia\",\n",
    "    \"New York\",\n",
    "]"
   ]
  },
  {
   "cell_type": "code",
   "execution_count": 4,
   "metadata": {},
   "outputs": [
    {
     "name": "stdout",
     "output_type": "stream",
     "text": [
      "Processing Alabama\n",
      "Processing Alaska\n",
      "Processing Arizona\n",
      "Processing Arkansas\n",
      "Processing California\n",
      "Processing Colorado\n",
      "Processing Connecticut\n",
      "Processing Delaware\n",
      "Processing District Of Columbia\n",
      "Processing Florida\n",
      "Processing Georgia\n",
      "Processing Hawaii\n",
      "Processing Idaho\n",
      "Processing Illinois\n",
      "Processing Indiana\n",
      "Processing Iowa\n",
      "Processing Kansas\n",
      "Processing Kentucky\n",
      "Processing Louisiana\n",
      "Processing Maine\n",
      "Processing Maryland\n",
      "Processing Massachusetts\n",
      "Processing Michigan\n",
      "Processing Minnesota\n",
      "Processing Mississippi\n",
      "Processing Missouri\n",
      "Processing Montana\n",
      "Processing Nebraska\n",
      "Processing Nevada\n",
      "Processing New Hampshire\n",
      "Processing New Jersey\n",
      "Processing New Mexico\n",
      "Processing New York\n",
      "Processing North Carolina\n",
      "Processing North Dakota\n",
      "Processing Ohio\n",
      "Processing Oklahoma\n",
      "Processing Oregon\n",
      "Processing Pennsylvania\n",
      "Processing Rhode Island\n",
      "Processing South Carolina\n",
      "Processing South Dakota\n",
      "Processing Tennessee\n",
      "Processing Texas\n",
      "Processing Utah\n",
      "Processing Vermont\n",
      "Processing Virginia\n",
      "Processing Washington\n",
      "Processing West Virginia\n",
      "Processing Wisconsin\n",
      "Processing Wyoming\n"
     ]
    }
   ],
   "source": [
    "country = DataFrame()\n",
    "for filename in readdir(joinpath(\"..\", \"..\", \"data\", \"exp_raw\", \"arda\"))\n",
    "    state_name = titlecase(splitext(split(filename, \"state_\")[2])[1])\n",
    "    println(\"Processing $state_name\")\n",
    "    df = CSV.read(\n",
    "        joinpath(\"..\", \"..\", \"data\", \"exp_raw\", \"arda\", filename),\n",
    "        DataFrame,\n",
    "        types=Dict(\n",
    "            \"Adherents\" => Union{Missing, Int32},\n",
    "            \"Congregations\" => Union{Missing, Int32},\n",
    "            \"Religious Bodies\" => String),\n",
    "        silencewarnings=true) |> DataFrame\n",
    "    df = df[completecases(df, [\"Religious Bodies\", \"Tradition\", \"Family\"]), :]\n",
    "    df = df[(strip.(df[:, \"Religious Bodies\"])) .|> x -> !isempty(x), :]\n",
    "    df = coalesce.(df, 0)\n",
    "    df = groupby(df, [:Tradition]) # groupby the tradition\n",
    "    df = combine(\n",
    "        df,\n",
    "        [:Adherents, :Congregations] =>\n",
    "        ((a, c) -> (Adherents=sum(a), Congregations=sum(c))) =>\n",
    "        AsTable) # add adherents and congregation when we do the groupby\n",
    "    df.State .= state_name # add a feature that says which state the data is from\n",
    "    country = vcat(country, df) # concatenate this into a larger dataframe\n",
    "end"
   ]
  },
  {
   "cell_type": "code",
   "execution_count": 5,
   "metadata": {},
   "outputs": [
    {
     "data": {
      "text/html": [
       "<div><div style = \"float: left;\"><span>649×4 DataFrame</span></div><div style = \"float: right;\"><span style = \"font-style: italic;\">624 rows omitted</span></div><div style = \"clear: both;\"></div></div><div class = \"data-frame\" style = \"overflow-x: scroll;\"><table class = \"data-frame\" style = \"margin-bottom: 6px;\"><thead><tr class = \"header\"><th class = \"rowNumber\" style = \"font-weight: bold; text-align: right;\">Row</th><th style = \"text-align: left;\">Tradition</th><th style = \"text-align: left;\">Adherents</th><th style = \"text-align: left;\">Congregations</th><th style = \"text-align: left;\">State</th></tr><tr class = \"subheader headerLastRow\"><th class = \"rowNumber\" style = \"font-weight: bold; text-align: right;\"></th><th title = \"String31\" style = \"text-align: left;\">String31</th><th title = \"Int64\" style = \"text-align: left;\">Int64</th><th title = \"Int64\" style = \"text-align: left;\">Int64</th><th title = \"String\" style = \"text-align: left;\">String</th></tr></thead><tbody><tr><td class = \"rowNumber\" style = \"font-weight: bold; text-align: right;\">1</td><td style = \"text-align: left;\">Evangelical Protestant</td><td style = \"text-align: right;\">4077</td><td style = \"text-align: right;\">2732</td><td style = \"text-align: left;\">Alabama</td></tr><tr><td class = \"rowNumber\" style = \"font-weight: bold; text-align: right;\">2</td><td style = \"text-align: left;\">Mainline Protestant</td><td style = \"text-align: right;\">212</td><td style = \"text-align: right;\">340</td><td style = \"text-align: left;\">Alabama</td></tr><tr><td class = \"rowNumber\" style = \"font-weight: bold; text-align: right;\">3</td><td style = \"text-align: left;\">Catholic</td><td style = \"text-align: right;\">0</td><td style = \"text-align: right;\">162</td><td style = \"text-align: left;\">Alabama</td></tr><tr><td class = \"rowNumber\" style = \"font-weight: bold; text-align: right;\">4</td><td style = \"text-align: left;\">Black Protestant</td><td style = \"text-align: right;\">0</td><td style = \"text-align: right;\">1471</td><td style = \"text-align: left;\">Alabama</td></tr><tr><td class = \"rowNumber\" style = \"font-weight: bold; text-align: right;\">5</td><td style = \"text-align: left;\">Latter-day Saints</td><td style = \"text-align: right;\">0</td><td style = \"text-align: right;\">77</td><td style = \"text-align: left;\">Alabama</td></tr><tr><td class = \"rowNumber\" style = \"font-weight: bold; text-align: right;\">6</td><td style = \"text-align: left;\">Jehovah&apos;s Witnesses</td><td style = \"text-align: right;\">0</td><td style = \"text-align: right;\">157</td><td style = \"text-align: left;\">Alabama</td></tr><tr><td class = \"rowNumber\" style = \"font-weight: bold; text-align: right;\">7</td><td style = \"text-align: left;\">Islam</td><td style = \"text-align: right;\">0</td><td style = \"text-align: right;\">37</td><td style = \"text-align: left;\">Alabama</td></tr><tr><td class = \"rowNumber\" style = \"font-weight: bold; text-align: right;\">8</td><td style = \"text-align: left;\">Hinduism</td><td style = \"text-align: right;\">0</td><td style = \"text-align: right;\">7</td><td style = \"text-align: left;\">Alabama</td></tr><tr><td class = \"rowNumber\" style = \"font-weight: bold; text-align: right;\">9</td><td style = \"text-align: left;\">Buddhism</td><td style = \"text-align: right;\">585</td><td style = \"text-align: right;\">11</td><td style = \"text-align: left;\">Alabama</td></tr><tr><td class = \"rowNumber\" style = \"font-weight: bold; text-align: right;\">10</td><td style = \"text-align: left;\">Judaism</td><td style = \"text-align: right;\">375</td><td style = \"text-align: right;\">9</td><td style = \"text-align: left;\">Alabama</td></tr><tr><td class = \"rowNumber\" style = \"font-weight: bold; text-align: right;\">11</td><td style = \"text-align: left;\">Orthodox</td><td style = \"text-align: right;\">828</td><td style = \"text-align: right;\">18</td><td style = \"text-align: left;\">Alabama</td></tr><tr><td class = \"rowNumber\" style = \"font-weight: bold; text-align: right;\">12</td><td style = \"text-align: left;\">Other</td><td style = \"text-align: right;\">0</td><td style = \"text-align: right;\">12</td><td style = \"text-align: left;\">Alabama</td></tr><tr><td class = \"rowNumber\" style = \"font-weight: bold; text-align: right;\">13</td><td style = \"text-align: left;\">Other Christians</td><td style = \"text-align: right;\">0</td><td style = \"text-align: right;\">25</td><td style = \"text-align: left;\">Alabama</td></tr><tr><td style = \"text-align: right;\">&vellip;</td><td style = \"text-align: right;\">&vellip;</td><td style = \"text-align: right;\">&vellip;</td><td style = \"text-align: right;\">&vellip;</td><td style = \"text-align: right;\">&vellip;</td></tr><tr><td class = \"rowNumber\" style = \"font-weight: bold; text-align: right;\">638</td><td style = \"text-align: left;\">Other</td><td style = \"text-align: right;\">0</td><td style = \"text-align: right;\">27</td><td style = \"text-align: left;\">Wisconsin</td></tr><tr><td class = \"rowNumber\" style = \"font-weight: bold; text-align: right;\">639</td><td style = \"text-align: left;\">Catholic</td><td style = \"text-align: right;\">0</td><td style = \"text-align: right;\">65</td><td style = \"text-align: left;\">Wyoming</td></tr><tr><td class = \"rowNumber\" style = \"font-weight: bold; text-align: right;\">640</td><td style = \"text-align: left;\">Latter-day Saints</td><td style = \"text-align: right;\">0</td><td style = \"text-align: right;\">172</td><td style = \"text-align: left;\">Wyoming</td></tr><tr><td class = \"rowNumber\" style = \"font-weight: bold; text-align: right;\">641</td><td style = \"text-align: left;\">Evangelical Protestant</td><td style = \"text-align: right;\">3027</td><td style = \"text-align: right;\">493</td><td style = \"text-align: left;\">Wyoming</td></tr><tr><td class = \"rowNumber\" style = \"font-weight: bold; text-align: right;\">642</td><td style = \"text-align: left;\">Mainline Protestant</td><td style = \"text-align: right;\">885</td><td style = \"text-align: right;\">160</td><td style = \"text-align: left;\">Wyoming</td></tr><tr><td class = \"rowNumber\" style = \"font-weight: bold; text-align: right;\">643</td><td style = \"text-align: left;\">Jehovah&apos;s Witnesses</td><td style = \"text-align: right;\">0</td><td style = \"text-align: right;\">26</td><td style = \"text-align: left;\">Wyoming</td></tr><tr><td class = \"rowNumber\" style = \"font-weight: bold; text-align: right;\">644</td><td style = \"text-align: left;\">Black Protestant</td><td style = \"text-align: right;\">838</td><td style = \"text-align: right;\">12</td><td style = \"text-align: left;\">Wyoming</td></tr><tr><td class = \"rowNumber\" style = \"font-weight: bold; text-align: right;\">645</td><td style = \"text-align: left;\">Orthodox</td><td style = \"text-align: right;\">385</td><td style = \"text-align: right;\">5</td><td style = \"text-align: left;\">Wyoming</td></tr><tr><td class = \"rowNumber\" style = \"font-weight: bold; text-align: right;\">646</td><td style = \"text-align: left;\">Other Christians</td><td style = \"text-align: right;\">304</td><td style = \"text-align: right;\">5</td><td style = \"text-align: left;\">Wyoming</td></tr><tr><td class = \"rowNumber\" style = \"font-weight: bold; text-align: right;\">647</td><td style = \"text-align: left;\">Other</td><td style = \"text-align: right;\">295</td><td style = \"text-align: right;\">4</td><td style = \"text-align: left;\">Wyoming</td></tr><tr><td class = \"rowNumber\" style = \"font-weight: bold; text-align: right;\">648</td><td style = \"text-align: left;\">Islam</td><td style = \"text-align: right;\">226</td><td style = \"text-align: right;\">3</td><td style = \"text-align: left;\">Wyoming</td></tr><tr><td class = \"rowNumber\" style = \"font-weight: bold; text-align: right;\">649</td><td style = \"text-align: left;\">Buddhism</td><td style = \"text-align: right;\">100</td><td style = \"text-align: right;\">1</td><td style = \"text-align: left;\">Wyoming</td></tr></tbody></table></div>"
      ],
      "text/latex": [
       "\\begin{tabular}{r|cccc}\n",
       "\t& Tradition & Adherents & Congregations & State\\\\\n",
       "\t\\hline\n",
       "\t& String31 & Int64 & Int64 & String\\\\\n",
       "\t\\hline\n",
       "\t1 & Evangelical Protestant & 4077 & 2732 & Alabama \\\\\n",
       "\t2 & Mainline Protestant & 212 & 340 & Alabama \\\\\n",
       "\t3 & Catholic & 0 & 162 & Alabama \\\\\n",
       "\t4 & Black Protestant & 0 & 1471 & Alabama \\\\\n",
       "\t5 & Latter-day Saints & 0 & 77 & Alabama \\\\\n",
       "\t6 & Jehovah's Witnesses & 0 & 157 & Alabama \\\\\n",
       "\t7 & Islam & 0 & 37 & Alabama \\\\\n",
       "\t8 & Hinduism & 0 & 7 & Alabama \\\\\n",
       "\t9 & Buddhism & 585 & 11 & Alabama \\\\\n",
       "\t10 & Judaism & 375 & 9 & Alabama \\\\\n",
       "\t11 & Orthodox & 828 & 18 & Alabama \\\\\n",
       "\t12 & Other & 0 & 12 & Alabama \\\\\n",
       "\t13 & Other Christians & 0 & 25 & Alabama \\\\\n",
       "\t14 & Evangelical Protestant & 4116 & 709 & Alaska \\\\\n",
       "\t15 & Catholic & 0 & 89 & Alaska \\\\\n",
       "\t16 & Latter-day Saints & 0 & 81 & Alaska \\\\\n",
       "\t17 & Orthodox & 808 & 92 & Alaska \\\\\n",
       "\t18 & Mainline Protestant & 1481 & 170 & Alaska \\\\\n",
       "\t19 & Jehovah's Witnesses & 0 & 31 & Alaska \\\\\n",
       "\t20 & Buddhism & 713 & 12 & Alaska \\\\\n",
       "\t21 & Black Protestant & 1179 & 21 & Alaska \\\\\n",
       "\t22 & Other & 690 & 14 & Alaska \\\\\n",
       "\t23 & Other Christians & 498 & 9 & Alaska \\\\\n",
       "\t24 & Judaism & 464 & 1 & Alaska \\\\\n",
       "\t25 & Islam & 400 & 2 & Alaska \\\\\n",
       "\t26 & Hinduism & 160 & 1 & Alaska \\\\\n",
       "\t27 & Catholic & 0 & 269 & Arizona \\\\\n",
       "\t28 & Latter-day Saints & 0 & 935 & Arizona \\\\\n",
       "\t29 & Evangelical Protestant & 7116 & 2852 & Arizona \\\\\n",
       "\t30 & Islam & 0 & 35 & Arizona \\\\\n",
       "\t$\\dots$ & $\\dots$ & $\\dots$ & $\\dots$ & $\\dots$ \\\\\n",
       "\\end{tabular}\n"
      ],
      "text/plain": [
       "\u001b[1m649×4 DataFrame\u001b[0m\n",
       "\u001b[1m Row \u001b[0m│\u001b[1m Tradition              \u001b[0m\u001b[1m Adherents \u001b[0m\u001b[1m Congregations \u001b[0m\u001b[1m State     \u001b[0m\n",
       "     │\u001b[90m String31               \u001b[0m\u001b[90m Int64     \u001b[0m\u001b[90m Int64         \u001b[0m\u001b[90m String    \u001b[0m\n",
       "─────┼─────────────────────────────────────────────────────────────\n",
       "   1 │ Evangelical Protestant       4077           2732  Alabama\n",
       "   2 │ Mainline Protestant           212            340  Alabama\n",
       "   3 │ Catholic                        0            162  Alabama\n",
       "   4 │ Black Protestant                0           1471  Alabama\n",
       "   5 │ Latter-day Saints               0             77  Alabama\n",
       "   6 │ Jehovah's Witnesses             0            157  Alabama\n",
       "   7 │ Islam                           0             37  Alabama\n",
       "   8 │ Hinduism                        0              7  Alabama\n",
       "   9 │ Buddhism                      585             11  Alabama\n",
       "  10 │ Judaism                       375              9  Alabama\n",
       "  11 │ Orthodox                      828             18  Alabama\n",
       "  ⋮  │           ⋮                 ⋮            ⋮            ⋮\n",
       " 640 │ Latter-day Saints               0            172  Wyoming\n",
       " 641 │ Evangelical Protestant       3027            493  Wyoming\n",
       " 642 │ Mainline Protestant           885            160  Wyoming\n",
       " 643 │ Jehovah's Witnesses             0             26  Wyoming\n",
       " 644 │ Black Protestant              838             12  Wyoming\n",
       " 645 │ Orthodox                      385              5  Wyoming\n",
       " 646 │ Other Christians              304              5  Wyoming\n",
       " 647 │ Other                         295              4  Wyoming\n",
       " 648 │ Islam                         226              3  Wyoming\n",
       " 649 │ Buddhism                      100              1  Wyoming\n",
       "\u001b[36m                                                   628 rows omitted\u001b[0m"
      ]
     },
     "execution_count": 5,
     "metadata": {},
     "output_type": "execute_result"
    }
   ],
   "source": [
    "country"
   ]
  },
  {
   "cell_type": "code",
   "execution_count": 6,
   "metadata": {},
   "outputs": [
    {
     "data": {
      "text/html": [
       "<div><div style = \"float: left;\"><span>51×27 DataFrame</span></div><div style = \"float: right;\"><span style = \"font-style: italic;\">26 rows omitted</span></div><div style = \"clear: both;\"></div></div><div class = \"data-frame\" style = \"overflow-x: scroll;\"><table class = \"data-frame\" style = \"margin-bottom: 6px;\"><thead><tr class = \"header\"><th class = \"rowNumber\" style = \"font-weight: bold; text-align: right;\">Row</th><th style = \"text-align: left;\">State</th><th style = \"text-align: left;\">Black Protestant Adherents</th><th style = \"text-align: left;\">Black Protestant Congregations</th><th style = \"text-align: left;\">Buddhism Adherents</th><th style = \"text-align: left;\">Buddhism Congregations</th><th style = \"text-align: left;\">Catholic Adherents</th><th style = \"text-align: left;\">Catholic Congregations</th><th style = \"text-align: left;\">Evangelical Protestant Adherents</th><th style = \"text-align: left;\">Evangelical Protestant Congregations</th><th style = \"text-align: left;\">Hinduism Adherents</th><th style = \"text-align: left;\">Hinduism Congregations</th><th style = \"text-align: left;\">Islam Adherents</th><th style = \"text-align: left;\">Islam Congregations</th><th style = \"text-align: left;\">Jehovah&apos;s Witnesses Adherents</th><th style = \"text-align: left;\">Jehovah&apos;s Witnesses Congregations</th><th style = \"text-align: left;\">Judaism Adherents</th><th style = \"text-align: left;\">Judaism Congregations</th><th style = \"text-align: left;\">Latter-day Saints Adherents</th><th style = \"text-align: left;\">Latter-day Saints Congregations</th><th style = \"text-align: left;\">Mainline Protestant Adherents</th><th style = \"text-align: left;\">Mainline Protestant Congregations</th><th style = \"text-align: left;\">Orthodox Adherents</th><th style = \"text-align: left;\">Orthodox Congregations</th><th style = \"text-align: left;\">Other Adherents</th><th style = \"text-align: left;\">Other Congregations</th><th style = \"text-align: left;\">Other Christians Adherents</th><th style = \"text-align: left;\">Other Christians Congregations</th></tr><tr class = \"subheader headerLastRow\"><th class = \"rowNumber\" style = \"font-weight: bold; text-align: right;\"></th><th title = \"String\" style = \"text-align: left;\">String</th><th title = \"Int64\" style = \"text-align: left;\">Int64</th><th title = \"Int64\" style = \"text-align: left;\">Int64</th><th title = \"Int64\" style = \"text-align: left;\">Int64</th><th title = \"Int64\" style = \"text-align: left;\">Int64</th><th title = \"Int64\" style = \"text-align: left;\">Int64</th><th title = \"Int64\" style = \"text-align: left;\">Int64</th><th title = \"Int64\" style = \"text-align: left;\">Int64</th><th title = \"Int64\" style = \"text-align: left;\">Int64</th><th title = \"Int64\" style = \"text-align: left;\">Int64</th><th title = \"Int64\" style = \"text-align: left;\">Int64</th><th title = \"Int64\" style = \"text-align: left;\">Int64</th><th title = \"Int64\" style = \"text-align: left;\">Int64</th><th title = \"Int64\" style = \"text-align: left;\">Int64</th><th title = \"Int64\" style = \"text-align: left;\">Int64</th><th title = \"Int64\" style = \"text-align: left;\">Int64</th><th title = \"Int64\" style = \"text-align: left;\">Int64</th><th title = \"Int64\" style = \"text-align: left;\">Int64</th><th title = \"Int64\" style = \"text-align: left;\">Int64</th><th title = \"Int64\" style = \"text-align: left;\">Int64</th><th title = \"Int64\" style = \"text-align: left;\">Int64</th><th title = \"Int64\" style = \"text-align: left;\">Int64</th><th title = \"Int64\" style = \"text-align: left;\">Int64</th><th title = \"Int64\" style = \"text-align: left;\">Int64</th><th title = \"Int64\" style = \"text-align: left;\">Int64</th><th title = \"Int64\" style = \"text-align: left;\">Int64</th><th title = \"Int64\" style = \"text-align: left;\">Int64</th></tr></thead><tbody><tr><td class = \"rowNumber\" style = \"font-weight: bold; text-align: right;\">1</td><td style = \"text-align: left;\">Alabama</td><td style = \"text-align: right;\">0</td><td style = \"text-align: right;\">1471</td><td style = \"text-align: right;\">585</td><td style = \"text-align: right;\">11</td><td style = \"text-align: right;\">0</td><td style = \"text-align: right;\">162</td><td style = \"text-align: right;\">4077</td><td style = \"text-align: right;\">2732</td><td style = \"text-align: right;\">0</td><td style = \"text-align: right;\">7</td><td style = \"text-align: right;\">0</td><td style = \"text-align: right;\">37</td><td style = \"text-align: right;\">0</td><td style = \"text-align: right;\">157</td><td style = \"text-align: right;\">375</td><td style = \"text-align: right;\">9</td><td style = \"text-align: right;\">0</td><td style = \"text-align: right;\">77</td><td style = \"text-align: right;\">212</td><td style = \"text-align: right;\">340</td><td style = \"text-align: right;\">828</td><td style = \"text-align: right;\">18</td><td style = \"text-align: right;\">0</td><td style = \"text-align: right;\">12</td><td style = \"text-align: right;\">0</td><td style = \"text-align: right;\">25</td></tr><tr><td class = \"rowNumber\" style = \"font-weight: bold; text-align: right;\">2</td><td style = \"text-align: left;\">Alaska</td><td style = \"text-align: right;\">1179</td><td style = \"text-align: right;\">21</td><td style = \"text-align: right;\">713</td><td style = \"text-align: right;\">12</td><td style = \"text-align: right;\">0</td><td style = \"text-align: right;\">89</td><td style = \"text-align: right;\">4116</td><td style = \"text-align: right;\">709</td><td style = \"text-align: right;\">160</td><td style = \"text-align: right;\">1</td><td style = \"text-align: right;\">400</td><td style = \"text-align: right;\">2</td><td style = \"text-align: right;\">0</td><td style = \"text-align: right;\">31</td><td style = \"text-align: right;\">464</td><td style = \"text-align: right;\">1</td><td style = \"text-align: right;\">0</td><td style = \"text-align: right;\">81</td><td style = \"text-align: right;\">1481</td><td style = \"text-align: right;\">170</td><td style = \"text-align: right;\">808</td><td style = \"text-align: right;\">92</td><td style = \"text-align: right;\">690</td><td style = \"text-align: right;\">14</td><td style = \"text-align: right;\">498</td><td style = \"text-align: right;\">9</td></tr><tr><td class = \"rowNumber\" style = \"font-weight: bold; text-align: right;\">3</td><td style = \"text-align: left;\">Arizona</td><td style = \"text-align: right;\">2142</td><td style = \"text-align: right;\">119</td><td style = \"text-align: right;\">0</td><td style = \"text-align: right;\">33</td><td style = \"text-align: right;\">0</td><td style = \"text-align: right;\">269</td><td style = \"text-align: right;\">7116</td><td style = \"text-align: right;\">2852</td><td style = \"text-align: right;\">0</td><td style = \"text-align: right;\">8</td><td style = \"text-align: right;\">0</td><td style = \"text-align: right;\">35</td><td style = \"text-align: right;\">0</td><td style = \"text-align: right;\">306</td><td style = \"text-align: right;\">0</td><td style = \"text-align: right;\">29</td><td style = \"text-align: right;\">0</td><td style = \"text-align: right;\">935</td><td style = \"text-align: right;\">681</td><td style = \"text-align: right;\">436</td><td style = \"text-align: right;\">2442</td><td style = \"text-align: right;\">39</td><td style = \"text-align: right;\">0</td><td style = \"text-align: right;\">44</td><td style = \"text-align: right;\">34</td><td style = \"text-align: right;\">61</td></tr><tr><td class = \"rowNumber\" style = \"font-weight: bold; text-align: right;\">4</td><td style = \"text-align: left;\">Arkansas</td><td style = \"text-align: right;\">1482</td><td style = \"text-align: right;\">877</td><td style = \"text-align: right;\">100</td><td style = \"text-align: right;\">12</td><td style = \"text-align: right;\">0</td><td style = \"text-align: right;\">129</td><td style = \"text-align: right;\">6105</td><td style = \"text-align: right;\">3706</td><td style = \"text-align: right;\">200</td><td style = \"text-align: right;\">1</td><td style = \"text-align: right;\">0</td><td style = \"text-align: right;\">12</td><td style = \"text-align: right;\">0</td><td style = \"text-align: right;\">134</td><td style = \"text-align: right;\">1086</td><td style = \"text-align: right;\">4</td><td style = \"text-align: right;\">0</td><td style = \"text-align: right;\">71</td><td style = \"text-align: right;\">430</td><td style = \"text-align: right;\">840</td><td style = \"text-align: right;\">1413</td><td style = \"text-align: right;\">14</td><td style = \"text-align: right;\">0</td><td style = \"text-align: right;\">8</td><td style = \"text-align: right;\">600</td><td style = \"text-align: right;\">32</td></tr><tr><td class = \"rowNumber\" style = \"font-weight: bold; text-align: right;\">5</td><td style = \"text-align: left;\">California</td><td style = \"text-align: right;\">368</td><td style = \"text-align: right;\">1259</td><td style = \"text-align: right;\">0</td><td style = \"text-align: right;\">499</td><td style = \"text-align: right;\">320</td><td style = \"text-align: right;\">3</td><td style = \"text-align: right;\">9566</td><td style = \"text-align: right;\">6453</td><td style = \"text-align: right;\">0</td><td style = \"text-align: right;\">50</td><td style = \"text-align: right;\">0</td><td style = \"text-align: right;\">308</td><td style = \"text-align: right;\">0</td><td style = \"text-align: right;\">0</td><td style = \"text-align: right;\">0</td><td style = \"text-align: right;\">200</td><td style = \"text-align: right;\">0</td><td style = \"text-align: right;\">8</td><td style = \"text-align: right;\">446</td><td style = \"text-align: right;\">2790</td><td style = \"text-align: right;\">3744</td><td style = \"text-align: right;\">326</td><td style = \"text-align: right;\">0</td><td style = \"text-align: right;\">317</td><td style = \"text-align: right;\">572</td><td style = \"text-align: right;\">279</td></tr><tr><td class = \"rowNumber\" style = \"font-weight: bold; text-align: right;\">6</td><td style = \"text-align: left;\">Colorado</td><td style = \"text-align: right;\">1504</td><td style = \"text-align: right;\">99</td><td style = \"text-align: right;\">0</td><td style = \"text-align: right;\">52</td><td style = \"text-align: right;\">0</td><td style = \"text-align: right;\">269</td><td style = \"text-align: right;\">7553</td><td style = \"text-align: right;\">2455</td><td style = \"text-align: right;\">0</td><td style = \"text-align: right;\">2</td><td style = \"text-align: right;\">0</td><td style = \"text-align: right;\">23</td><td style = \"text-align: right;\">0</td><td style = \"text-align: right;\">211</td><td style = \"text-align: right;\">0</td><td style = \"text-align: right;\">19</td><td style = \"text-align: right;\">0</td><td style = \"text-align: right;\">316</td><td style = \"text-align: right;\">524</td><td style = \"text-align: right;\">678</td><td style = \"text-align: right;\">1225</td><td style = \"text-align: right;\">37</td><td style = \"text-align: right;\">0</td><td style = \"text-align: right;\">36</td><td style = \"text-align: right;\">34</td><td style = \"text-align: right;\">58</td></tr><tr><td class = \"rowNumber\" style = \"font-weight: bold; text-align: right;\">7</td><td style = \"text-align: left;\">Connecticut</td><td style = \"text-align: right;\">1544</td><td style = \"text-align: right;\">142</td><td style = \"text-align: right;\">455</td><td style = \"text-align: right;\">17</td><td style = \"text-align: right;\">0</td><td style = \"text-align: right;\">361</td><td style = \"text-align: right;\">6416</td><td style = \"text-align: right;\">1162</td><td style = \"text-align: right;\">0</td><td style = \"text-align: right;\">4</td><td style = \"text-align: right;\">0</td><td style = \"text-align: right;\">49</td><td style = \"text-align: right;\">0</td><td style = \"text-align: right;\">133</td><td style = \"text-align: right;\">243</td><td style = \"text-align: right;\">61</td><td style = \"text-align: right;\">0</td><td style = \"text-align: right;\">36</td><td style = \"text-align: right;\">1062</td><td style = \"text-align: right;\">737</td><td style = \"text-align: right;\">4340</td><td style = \"text-align: right;\">59</td><td style = \"text-align: right;\">0</td><td style = \"text-align: right;\">22</td><td style = \"text-align: right;\">0</td><td style = \"text-align: right;\">41</td></tr><tr><td class = \"rowNumber\" style = \"font-weight: bold; text-align: right;\">8</td><td style = \"text-align: left;\">Delaware</td><td style = \"text-align: right;\">3847</td><td style = \"text-align: right;\">83</td><td style = \"text-align: right;\">567</td><td style = \"text-align: right;\">4</td><td style = \"text-align: right;\">0</td><td style = \"text-align: right;\">45</td><td style = \"text-align: right;\">6605</td><td style = \"text-align: right;\">483</td><td style = \"text-align: right;\">0</td><td style = \"text-align: right;\">3</td><td style = \"text-align: right;\">0</td><td style = \"text-align: right;\">9</td><td style = \"text-align: right;\">0</td><td style = \"text-align: right;\">38</td><td style = \"text-align: right;\">543</td><td style = \"text-align: right;\">5</td><td style = \"text-align: right;\">0</td><td style = \"text-align: right;\">12</td><td style = \"text-align: right;\">1115</td><td style = \"text-align: right;\">249</td><td style = \"text-align: right;\">1073</td><td style = \"text-align: right;\">7</td><td style = \"text-align: right;\">293</td><td style = \"text-align: right;\">7</td><td style = \"text-align: right;\">40</td><td style = \"text-align: right;\">11</td></tr><tr><td class = \"rowNumber\" style = \"font-weight: bold; text-align: right;\">9</td><td style = \"text-align: left;\">District Of Columbia</td><td style = \"text-align: right;\">1052</td><td style = \"text-align: right;\">113</td><td style = \"text-align: right;\">500</td><td style = \"text-align: right;\">11</td><td style = \"text-align: right;\">0</td><td style = \"text-align: right;\">41</td><td style = \"text-align: right;\">5346</td><td style = \"text-align: right;\">301</td><td style = \"text-align: right;\">0</td><td style = \"text-align: right;\">0</td><td style = \"text-align: right;\">0</td><td style = \"text-align: right;\">10</td><td style = \"text-align: right;\">0</td><td style = \"text-align: right;\">23</td><td style = \"text-align: right;\">554</td><td style = \"text-align: right;\">7</td><td style = \"text-align: right;\">0</td><td style = \"text-align: right;\">4</td><td style = \"text-align: right;\">1550</td><td style = \"text-align: right;\">179</td><td style = \"text-align: right;\">1830</td><td style = \"text-align: right;\">17</td><td style = \"text-align: right;\">653</td><td style = \"text-align: right;\">7</td><td style = \"text-align: right;\">27</td><td style = \"text-align: right;\">11</td></tr><tr><td class = \"rowNumber\" style = \"font-weight: bold; text-align: right;\">10</td><td style = \"text-align: left;\">Florida</td><td style = \"text-align: right;\">563</td><td style = \"text-align: right;\">1499</td><td style = \"text-align: right;\">0</td><td style = \"text-align: right;\">90</td><td style = \"text-align: right;\">0</td><td style = \"text-align: right;\">561</td><td style = \"text-align: right;\">6923</td><td style = \"text-align: right;\">4928</td><td style = \"text-align: right;\">0</td><td style = \"text-align: right;\">32</td><td style = \"text-align: right;\">0</td><td style = \"text-align: right;\">157</td><td style = \"text-align: right;\">0</td><td style = \"text-align: right;\">0</td><td style = \"text-align: right;\">297</td><td style = \"text-align: right;\">146</td><td style = \"text-align: right;\">0</td><td style = \"text-align: right;\">278</td><td style = \"text-align: right;\">641</td><td style = \"text-align: right;\">1810</td><td style = \"text-align: right;\">3863</td><td style = \"text-align: right;\">172</td><td style = \"text-align: right;\">0</td><td style = \"text-align: right;\">88</td><td style = \"text-align: right;\">274</td><td style = \"text-align: right;\">203</td></tr><tr><td class = \"rowNumber\" style = \"font-weight: bold; text-align: right;\">11</td><td style = \"text-align: left;\">Georgia</td><td style = \"text-align: right;\">172</td><td style = \"text-align: right;\">1525</td><td style = \"text-align: right;\">430</td><td style = \"text-align: right;\">30</td><td style = \"text-align: right;\">0</td><td style = \"text-align: right;\">194</td><td style = \"text-align: right;\">7328</td><td style = \"text-align: right;\">2838</td><td style = \"text-align: right;\">0</td><td style = \"text-align: right;\">18</td><td style = \"text-align: right;\">0</td><td style = \"text-align: right;\">99</td><td style = \"text-align: right;\">0</td><td style = \"text-align: right;\">455</td><td style = \"text-align: right;\">910</td><td style = \"text-align: right;\">45</td><td style = \"text-align: right;\">0</td><td style = \"text-align: right;\">167</td><td style = \"text-align: right;\">604</td><td style = \"text-align: right;\">589</td><td style = \"text-align: right;\">3316</td><td style = \"text-align: right;\">59</td><td style = \"text-align: right;\">0</td><td style = \"text-align: right;\">56</td><td style = \"text-align: right;\">161</td><td style = \"text-align: right;\">57</td></tr><tr><td class = \"rowNumber\" style = \"font-weight: bold; text-align: right;\">12</td><td style = \"text-align: left;\">Hawaii</td><td style = \"text-align: right;\">316</td><td style = \"text-align: right;\">17</td><td style = \"text-align: right;\">0</td><td style = \"text-align: right;\">119</td><td style = \"text-align: right;\">0</td><td style = \"text-align: right;\">86</td><td style = \"text-align: right;\">2903</td><td style = \"text-align: right;\">636</td><td style = \"text-align: right;\">0</td><td style = \"text-align: right;\">0</td><td style = \"text-align: right;\">145</td><td style = \"text-align: right;\">3</td><td style = \"text-align: right;\">0</td><td style = \"text-align: right;\">107</td><td style = \"text-align: right;\">797</td><td style = \"text-align: right;\">3</td><td style = \"text-align: right;\">0</td><td style = \"text-align: right;\">142</td><td style = \"text-align: right;\">1889</td><td style = \"text-align: right;\">216</td><td style = \"text-align: right;\">593</td><td style = \"text-align: right;\">12</td><td style = \"text-align: right;\">869</td><td style = \"text-align: right;\">36</td><td style = \"text-align: right;\">146</td><td style = \"text-align: right;\">7</td></tr><tr><td class = \"rowNumber\" style = \"font-weight: bold; text-align: right;\">13</td><td style = \"text-align: left;\">Idaho</td><td style = \"text-align: right;\">1186</td><td style = \"text-align: right;\">8</td><td style = \"text-align: right;\">1140</td><td style = \"text-align: right;\">10</td><td style = \"text-align: right;\">0</td><td style = \"text-align: right;\">98</td><td style = \"text-align: right;\">7397</td><td style = \"text-align: right;\">877</td><td style = \"text-align: right;\">0</td><td style = \"text-align: right;\">0</td><td style = \"text-align: right;\">0</td><td style = \"text-align: right;\">6</td><td style = \"text-align: right;\">0</td><td style = \"text-align: right;\">77</td><td style = \"text-align: right;\">0</td><td style = \"text-align: right;\">2</td><td style = \"text-align: right;\">0</td><td style = \"text-align: right;\">0</td><td style = \"text-align: right;\">963</td><td style = \"text-align: right;\">224</td><td style = \"text-align: right;\">1061</td><td style = \"text-align: right;\">9</td><td style = \"text-align: right;\">871</td><td style = \"text-align: right;\">11</td><td style = \"text-align: right;\">733</td><td style = \"text-align: right;\">16</td></tr><tr><td style = \"text-align: right;\">&vellip;</td><td style = \"text-align: right;\">&vellip;</td><td style = \"text-align: right;\">&vellip;</td><td style = \"text-align: right;\">&vellip;</td><td style = \"text-align: right;\">&vellip;</td><td style = \"text-align: right;\">&vellip;</td><td style = \"text-align: right;\">&vellip;</td><td style = \"text-align: right;\">&vellip;</td><td style = \"text-align: right;\">&vellip;</td><td style = \"text-align: right;\">&vellip;</td><td style = \"text-align: right;\">&vellip;</td><td style = \"text-align: right;\">&vellip;</td><td style = \"text-align: right;\">&vellip;</td><td style = \"text-align: right;\">&vellip;</td><td style = \"text-align: right;\">&vellip;</td><td style = \"text-align: right;\">&vellip;</td><td style = \"text-align: right;\">&vellip;</td><td style = \"text-align: right;\">&vellip;</td><td style = \"text-align: right;\">&vellip;</td><td style = \"text-align: right;\">&vellip;</td><td style = \"text-align: right;\">&vellip;</td><td style = \"text-align: right;\">&vellip;</td><td style = \"text-align: right;\">&vellip;</td><td style = \"text-align: right;\">&vellip;</td><td style = \"text-align: right;\">&vellip;</td><td style = \"text-align: right;\">&vellip;</td><td style = \"text-align: right;\">&vellip;</td><td style = \"text-align: right;\">&vellip;</td></tr><tr><td class = \"rowNumber\" style = \"font-weight: bold; text-align: right;\">40</td><td style = \"text-align: left;\">Rhode Island</td><td style = \"text-align: right;\">1487</td><td style = \"text-align: right;\">10</td><td style = \"text-align: right;\">218</td><td style = \"text-align: right;\">13</td><td style = \"text-align: right;\">0</td><td style = \"text-align: right;\">144</td><td style = \"text-align: right;\">7043</td><td style = \"text-align: right;\">240</td><td style = \"text-align: right;\">0</td><td style = \"text-align: right;\">0</td><td style = \"text-align: right;\">0</td><td style = \"text-align: right;\">8</td><td style = \"text-align: right;\">0</td><td style = \"text-align: right;\">33</td><td style = \"text-align: right;\">0</td><td style = \"text-align: right;\">12</td><td style = \"text-align: right;\">0</td><td style = \"text-align: right;\">8</td><td style = \"text-align: right;\">1136</td><td style = \"text-align: right;\">194</td><td style = \"text-align: right;\">1253</td><td style = \"text-align: right;\">12</td><td style = \"text-align: right;\">275</td><td style = \"text-align: right;\">4</td><td style = \"text-align: right;\">0</td><td style = \"text-align: right;\">13</td></tr><tr><td class = \"rowNumber\" style = \"font-weight: bold; text-align: right;\">41</td><td style = \"text-align: left;\">South Carolina</td><td style = \"text-align: right;\">360</td><td style = \"text-align: right;\">1061</td><td style = \"text-align: right;\">220</td><td style = \"text-align: right;\">9</td><td style = \"text-align: right;\">0</td><td style = \"text-align: right;\">120</td><td style = \"text-align: right;\">5219</td><td style = \"text-align: right;\">1762</td><td style = \"text-align: right;\">0</td><td style = \"text-align: right;\">9</td><td style = \"text-align: right;\">0</td><td style = \"text-align: right;\">25</td><td style = \"text-align: right;\">0</td><td style = \"text-align: right;\">185</td><td style = \"text-align: right;\">830</td><td style = \"text-align: right;\">18</td><td style = \"text-align: right;\">0</td><td style = \"text-align: right;\">74</td><td style = \"text-align: right;\">2047</td><td style = \"text-align: right;\">1559</td><td style = \"text-align: right;\">1338</td><td style = \"text-align: right;\">26</td><td style = \"text-align: right;\">0</td><td style = \"text-align: right;\">21</td><td style = \"text-align: right;\">0</td><td style = \"text-align: right;\">30</td></tr><tr><td class = \"rowNumber\" style = \"font-weight: bold; text-align: right;\">42</td><td style = \"text-align: left;\">South Dakota</td><td style = \"text-align: right;\">830</td><td style = \"text-align: right;\">5</td><td style = \"text-align: right;\">17</td><td style = \"text-align: right;\">1</td><td style = \"text-align: right;\">0</td><td style = \"text-align: right;\">189</td><td style = \"text-align: right;\">5885</td><td style = \"text-align: right;\">1034</td><td style = \"text-align: right;\">0</td><td style = \"text-align: right;\">0</td><td style = \"text-align: right;\">535</td><td style = \"text-align: right;\">5</td><td style = \"text-align: right;\">0</td><td style = \"text-align: right;\">26</td><td style = \"text-align: right;\">103</td><td style = \"text-align: right;\">2</td><td style = \"text-align: right;\">0</td><td style = \"text-align: right;\">30</td><td style = \"text-align: right;\">0</td><td style = \"text-align: right;\">626</td><td style = \"text-align: right;\">734</td><td style = \"text-align: right;\">7</td><td style = \"text-align: right;\">978</td><td style = \"text-align: right;\">3</td><td style = \"text-align: right;\">67</td><td style = \"text-align: right;\">7</td></tr><tr><td class = \"rowNumber\" style = \"font-weight: bold; text-align: right;\">43</td><td style = \"text-align: left;\">Tennessee</td><td style = \"text-align: right;\">790</td><td style = \"text-align: right;\">1208</td><td style = \"text-align: right;\">798</td><td style = \"text-align: right;\">14</td><td style = \"text-align: right;\">0</td><td style = \"text-align: right;\">157</td><td style = \"text-align: right;\">7269</td><td style = \"text-align: right;\">2514</td><td style = \"text-align: right;\">0</td><td style = \"text-align: right;\">9</td><td style = \"text-align: right;\">0</td><td style = \"text-align: right;\">43</td><td style = \"text-align: right;\">0</td><td style = \"text-align: right;\">209</td><td style = \"text-align: right;\">0</td><td style = \"text-align: right;\">14</td><td style = \"text-align: right;\">0</td><td style = \"text-align: right;\">113</td><td style = \"text-align: right;\">517</td><td style = \"text-align: right;\">510</td><td style = \"text-align: right;\">1986</td><td style = \"text-align: right;\">52</td><td style = \"text-align: right;\">0</td><td style = \"text-align: right;\">19</td><td style = \"text-align: right;\">18</td><td style = \"text-align: right;\">38</td></tr><tr><td class = \"rowNumber\" style = \"font-weight: bold; text-align: right;\">44</td><td style = \"text-align: left;\">Texas</td><td style = \"text-align: right;\">0</td><td style = \"text-align: right;\">2143</td><td style = \"text-align: right;\">0</td><td style = \"text-align: right;\">98</td><td style = \"text-align: right;\">0</td><td style = \"text-align: right;\">3</td><td style = \"text-align: right;\">5075</td><td style = \"text-align: right;\">4497</td><td style = \"text-align: right;\">0</td><td style = \"text-align: right;\">37</td><td style = \"text-align: right;\">0</td><td style = \"text-align: right;\">225</td><td style = \"text-align: right;\">0</td><td style = \"text-align: right;\">0</td><td style = \"text-align: right;\">140</td><td style = \"text-align: right;\">64</td><td style = \"text-align: right;\">0</td><td style = \"text-align: right;\">732</td><td style = \"text-align: right;\">1310</td><td style = \"text-align: right;\">1566</td><td style = \"text-align: right;\">1360</td><td style = \"text-align: right;\">153</td><td style = \"text-align: right;\">0</td><td style = \"text-align: right;\">102</td><td style = \"text-align: right;\">0</td><td style = \"text-align: right;\">149</td></tr><tr><td class = \"rowNumber\" style = \"font-weight: bold; text-align: right;\">45</td><td style = \"text-align: left;\">Utah</td><td style = \"text-align: right;\">994</td><td style = \"text-align: right;\">8</td><td style = \"text-align: right;\">220</td><td style = \"text-align: right;\">14</td><td style = \"text-align: right;\">0</td><td style = \"text-align: right;\">66</td><td style = \"text-align: right;\">6241</td><td style = \"text-align: right;\">455</td><td style = \"text-align: right;\">0</td><td style = \"text-align: right;\">1</td><td style = \"text-align: right;\">0</td><td style = \"text-align: right;\">14</td><td style = \"text-align: right;\">0</td><td style = \"text-align: right;\">69</td><td style = \"text-align: right;\">716</td><td style = \"text-align: right;\">5</td><td style = \"text-align: right;\">0</td><td style = \"text-align: right;\">0</td><td style = \"text-align: right;\">966</td><td style = \"text-align: right;\">100</td><td style = \"text-align: right;\">1133</td><td style = \"text-align: right;\">11</td><td style = \"text-align: right;\">0</td><td style = \"text-align: right;\">13</td><td style = \"text-align: right;\">846</td><td style = \"text-align: right;\">10</td></tr><tr><td class = \"rowNumber\" style = \"font-weight: bold; text-align: right;\">46</td><td style = \"text-align: left;\">Vermont</td><td style = \"text-align: right;\">0</td><td style = \"text-align: right;\">0</td><td style = \"text-align: right;\">58</td><td style = \"text-align: right;\">13</td><td style = \"text-align: right;\">0</td><td style = \"text-align: right;\">106</td><td style = \"text-align: right;\">5646</td><td style = \"text-align: right;\">243</td><td style = \"text-align: right;\">0</td><td style = \"text-align: right;\">0</td><td style = \"text-align: right;\">0</td><td style = \"text-align: right;\">4</td><td style = \"text-align: right;\">0</td><td style = \"text-align: right;\">20</td><td style = \"text-align: right;\">1102</td><td style = \"text-align: right;\">6</td><td style = \"text-align: right;\">0</td><td style = \"text-align: right;\">12</td><td style = \"text-align: right;\">2272</td><td style = \"text-align: right;\">370</td><td style = \"text-align: right;\">404</td><td style = \"text-align: right;\">5</td><td style = \"text-align: right;\">325</td><td style = \"text-align: right;\">3</td><td style = \"text-align: right;\">0</td><td style = \"text-align: right;\">26</td></tr><tr><td class = \"rowNumber\" style = \"font-weight: bold; text-align: right;\">47</td><td style = \"text-align: left;\">Virginia</td><td style = \"text-align: right;\">1380</td><td style = \"text-align: right;\">569</td><td style = \"text-align: right;\">0</td><td style = \"text-align: right;\">36</td><td style = \"text-align: right;\">160</td><td style = \"text-align: right;\">236</td><td style = \"text-align: right;\">9751</td><td style = \"text-align: right;\">2357</td><td style = \"text-align: right;\">0</td><td style = \"text-align: right;\">14</td><td style = \"text-align: right;\">0</td><td style = \"text-align: right;\">90</td><td style = \"text-align: right;\">0</td><td style = \"text-align: right;\">244</td><td style = \"text-align: right;\">216</td><td style = \"text-align: right;\">40</td><td style = \"text-align: right;\">0</td><td style = \"text-align: right;\">207</td><td style = \"text-align: right;\">754</td><td style = \"text-align: right;\">1329</td><td style = \"text-align: right;\">2641</td><td style = \"text-align: right;\">87</td><td style = \"text-align: right;\">0</td><td style = \"text-align: right;\">51</td><td style = \"text-align: right;\">52</td><td style = \"text-align: right;\">91</td></tr><tr><td class = \"rowNumber\" style = \"font-weight: bold; text-align: right;\">48</td><td style = \"text-align: left;\">Washington</td><td style = \"text-align: right;\">2832</td><td style = \"text-align: right;\">104</td><td style = \"text-align: right;\">0</td><td style = \"text-align: right;\">68</td><td style = \"text-align: right;\">160</td><td style = \"text-align: right;\">305</td><td style = \"text-align: right;\">7080</td><td style = \"text-align: right;\">3417</td><td style = \"text-align: right;\">0</td><td style = \"text-align: right;\">3</td><td style = \"text-align: right;\">0</td><td style = \"text-align: right;\">44</td><td style = \"text-align: right;\">0</td><td style = \"text-align: right;\">325</td><td style = \"text-align: right;\">0</td><td style = \"text-align: right;\">30</td><td style = \"text-align: right;\">0</td><td style = \"text-align: right;\">551</td><td style = \"text-align: right;\">1128</td><td style = \"text-align: right;\">1000</td><td style = \"text-align: right;\">2443</td><td style = \"text-align: right;\">63</td><td style = \"text-align: right;\">0</td><td style = \"text-align: right;\">91</td><td style = \"text-align: right;\">100</td><td style = \"text-align: right;\">84</td></tr><tr><td class = \"rowNumber\" style = \"font-weight: bold; text-align: right;\">49</td><td style = \"text-align: left;\">West Virginia</td><td style = \"text-align: right;\">2348</td><td style = \"text-align: right;\">135</td><td style = \"text-align: right;\">650</td><td style = \"text-align: right;\">2</td><td style = \"text-align: right;\">0</td><td style = \"text-align: right;\">123</td><td style = \"text-align: right;\">6880</td><td style = \"text-align: right;\">1953</td><td style = \"text-align: right;\">0</td><td style = \"text-align: right;\">0</td><td style = \"text-align: right;\">849</td><td style = \"text-align: right;\">7</td><td style = \"text-align: right;\">0</td><td style = \"text-align: right;\">47</td><td style = \"text-align: right;\">836</td><td style = \"text-align: right;\">7</td><td style = \"text-align: right;\">0</td><td style = \"text-align: right;\">36</td><td style = \"text-align: right;\">416</td><td style = \"text-align: right;\">685</td><td style = \"text-align: right;\">1973</td><td style = \"text-align: right;\">17</td><td style = \"text-align: right;\">552</td><td style = \"text-align: right;\">5</td><td style = \"text-align: right;\">214</td><td style = \"text-align: right;\">6</td></tr><tr><td class = \"rowNumber\" style = \"font-weight: bold; text-align: right;\">50</td><td style = \"text-align: left;\">Wisconsin</td><td style = \"text-align: right;\">1737</td><td style = \"text-align: right;\">157</td><td style = \"text-align: right;\">0</td><td style = \"text-align: right;\">33</td><td style = \"text-align: right;\">0</td><td style = \"text-align: right;\">758</td><td style = \"text-align: right;\">8871</td><td style = \"text-align: right;\">3098</td><td style = \"text-align: right;\">0</td><td style = \"text-align: right;\">6</td><td style = \"text-align: right;\">0</td><td style = \"text-align: right;\">30</td><td style = \"text-align: right;\">0</td><td style = \"text-align: right;\">154</td><td style = \"text-align: right;\">638</td><td style = \"text-align: right;\">19</td><td style = \"text-align: right;\">0</td><td style = \"text-align: right;\">68</td><td style = \"text-align: right;\">808</td><td style = \"text-align: right;\">1681</td><td style = \"text-align: right;\">2489</td><td style = \"text-align: right;\">37</td><td style = \"text-align: right;\">0</td><td style = \"text-align: right;\">27</td><td style = \"text-align: right;\">0</td><td style = \"text-align: right;\">53</td></tr><tr><td class = \"rowNumber\" style = \"font-weight: bold; text-align: right;\">51</td><td style = \"text-align: left;\">Wyoming</td><td style = \"text-align: right;\">838</td><td style = \"text-align: right;\">12</td><td style = \"text-align: right;\">100</td><td style = \"text-align: right;\">1</td><td style = \"text-align: right;\">0</td><td style = \"text-align: right;\">65</td><td style = \"text-align: right;\">3027</td><td style = \"text-align: right;\">493</td><td style = \"text-align: right;\">0</td><td style = \"text-align: right;\">0</td><td style = \"text-align: right;\">226</td><td style = \"text-align: right;\">3</td><td style = \"text-align: right;\">0</td><td style = \"text-align: right;\">26</td><td style = \"text-align: right;\">0</td><td style = \"text-align: right;\">0</td><td style = \"text-align: right;\">0</td><td style = \"text-align: right;\">172</td><td style = \"text-align: right;\">885</td><td style = \"text-align: right;\">160</td><td style = \"text-align: right;\">385</td><td style = \"text-align: right;\">5</td><td style = \"text-align: right;\">295</td><td style = \"text-align: right;\">4</td><td style = \"text-align: right;\">304</td><td style = \"text-align: right;\">5</td></tr></tbody></table></div>"
      ],
      "text/latex": [
       "\\begin{tabular}{r|cccc}\n",
       "\t& State & Black Protestant Adherents & Black Protestant Congregations & \\\\\n",
       "\t\\hline\n",
       "\t& String & Int64 & Int64 & \\\\\n",
       "\t\\hline\n",
       "\t1 & Alabama & 0 & 1471 & $\\dots$ \\\\\n",
       "\t2 & Alaska & 1179 & 21 & $\\dots$ \\\\\n",
       "\t3 & Arizona & 2142 & 119 & $\\dots$ \\\\\n",
       "\t4 & Arkansas & 1482 & 877 & $\\dots$ \\\\\n",
       "\t5 & California & 368 & 1259 & $\\dots$ \\\\\n",
       "\t6 & Colorado & 1504 & 99 & $\\dots$ \\\\\n",
       "\t7 & Connecticut & 1544 & 142 & $\\dots$ \\\\\n",
       "\t8 & Delaware & 3847 & 83 & $\\dots$ \\\\\n",
       "\t9 & District Of Columbia & 1052 & 113 & $\\dots$ \\\\\n",
       "\t10 & Florida & 563 & 1499 & $\\dots$ \\\\\n",
       "\t11 & Georgia & 172 & 1525 & $\\dots$ \\\\\n",
       "\t12 & Hawaii & 316 & 17 & $\\dots$ \\\\\n",
       "\t13 & Idaho & 1186 & 8 & $\\dots$ \\\\\n",
       "\t14 & Illinois & 286 & 1029 & $\\dots$ \\\\\n",
       "\t15 & Indiana & 900 & 514 & $\\dots$ \\\\\n",
       "\t16 & Iowa & 1672 & 66 & $\\dots$ \\\\\n",
       "\t17 & Kansas & 702 & 208 & $\\dots$ \\\\\n",
       "\t18 & Kentucky & 2454 & 368 & $\\dots$ \\\\\n",
       "\t19 & Louisiana & 0 & 859 & $\\dots$ \\\\\n",
       "\t20 & Maine & 1308 & 9 & $\\dots$ \\\\\n",
       "\t21 & Maryland & 1686 & 364 & $\\dots$ \\\\\n",
       "\t22 & Massachusetts & 1011 & 80 & $\\dots$ \\\\\n",
       "\t23 & Michigan & 312 & 899 & $\\dots$ \\\\\n",
       "\t24 & Minnesota & 160 & 37 & $\\dots$ \\\\\n",
       "\t25 & Mississippi & 424 & 1137 & $\\dots$ \\\\\n",
       "\t26 & Missouri & 869 & 489 & $\\dots$ \\\\\n",
       "\t27 & Montana & 710 & 7 & $\\dots$ \\\\\n",
       "\t28 & Nebraska & 1842 & 55 & $\\dots$ \\\\\n",
       "\t29 & Nevada & 1519 & 59 & $\\dots$ \\\\\n",
       "\t30 & New Hampshire & 260 & 2 & $\\dots$ \\\\\n",
       "\t$\\dots$ & $\\dots$ & $\\dots$ & $\\dots$ &  \\\\\n",
       "\\end{tabular}\n"
      ],
      "text/plain": [
       "\u001b[1m51×27 DataFrame\u001b[0m\n",
       "\u001b[1m Row \u001b[0m│\u001b[1m State                \u001b[0m\u001b[1m Black Protestant Adherents \u001b[0m\u001b[1m Black Protestant Cong\u001b[0m ⋯\n",
       "     │\u001b[90m String               \u001b[0m\u001b[90m Int64                      \u001b[0m\u001b[90m Int64                \u001b[0m ⋯\n",
       "─────┼──────────────────────────────────────────────────────────────────────────\n",
       "   1 │ Alabama                                        0                        ⋯\n",
       "   2 │ Alaska                                      1179\n",
       "   3 │ Arizona                                     2142\n",
       "   4 │ Arkansas                                    1482\n",
       "   5 │ California                                   368                        ⋯\n",
       "   6 │ Colorado                                    1504\n",
       "   7 │ Connecticut                                 1544\n",
       "   8 │ Delaware                                    3847\n",
       "   9 │ District Of Columbia                        1052                        ⋯\n",
       "  10 │ Florida                                      563\n",
       "  11 │ Georgia                                      172\n",
       "  ⋮  │          ⋮                        ⋮                             ⋮       ⋱\n",
       "  42 │ South Dakota                                 830\n",
       "  43 │ Tennessee                                    790                        ⋯\n",
       "  44 │ Texas                                          0\n",
       "  45 │ Utah                                         994\n",
       "  46 │ Vermont                                        0\n",
       "  47 │ Virginia                                    1380                        ⋯\n",
       "  48 │ Washington                                  2832\n",
       "  49 │ West Virginia                               2348\n",
       "  50 │ Wisconsin                                   1737\n",
       "  51 │ Wyoming                                      838                        ⋯\n",
       "\u001b[36m                                                  25 columns and 30 rows omitted\u001b[0m"
      ]
     },
     "execution_count": 6,
     "metadata": {},
     "output_type": "execute_result"
    }
   ],
   "source": [
    "df = DataFrame()\n",
    "for state_name in unique(country.State)\n",
    "    row = DataFrame(State=state_name)\n",
    "    for tradition in sort(unique(country.Tradition))\n",
    "        adherents = sum(country.Adherents[country.Tradition .== tradition .&& country.State .== state_name])\n",
    "        congregations = sum(country.Congregations[country.Tradition .== tradition .&& country.State .== state_name])\n",
    "        row = hcat(row, DataFrame(\"$tradition Adherents\" => adherents, \"$tradition Congregations\" => congregations))\n",
    "    end\n",
    "    df = vcat(df, row)\n",
    "end\n",
    "df"
   ]
  },
  {
   "cell_type": "code",
   "execution_count": 7,
   "metadata": {},
   "outputs": [
    {
     "name": "stdout",
     "output_type": "stream",
     "text": [
      "Columns with only one unique value: [\"LSAD\", \"MTFCC\", \"FUNCSTAT\"]\n"
     ]
    },
    {
     "data": {
      "text/html": [
       "<div><div style = \"float: left;\"><span>56×13 DataFrame</span></div><div style = \"float: right;\"><span style = \"font-style: italic;\">31 rows omitted</span></div><div style = \"clear: both;\"></div></div><div class = \"data-frame\" style = \"overflow-x: scroll;\"><table class = \"data-frame\" style = \"margin-bottom: 6px;\"><thead><tr class = \"header\"><th class = \"rowNumber\" style = \"font-weight: bold; text-align: right;\">Row</th><th style = \"text-align: left;\">geometry</th><th style = \"text-align: left;\">REGION</th><th style = \"text-align: left;\">DIVISION</th><th style = \"text-align: left;\">STATEFP</th><th style = \"text-align: left;\">STATENS</th><th style = \"text-align: left;\">GEOID</th><th style = \"text-align: left;\">GEOIDFQ</th><th style = \"text-align: left;\">STUSPS</th><th style = \"text-align: left;\">NAME</th><th style = \"text-align: left;\">ALAND</th><th style = \"text-align: left;\">AWATER</th><th style = \"text-align: left;\">INTPTLAT</th><th style = \"text-align: left;\">INTPTLON</th></tr><tr class = \"subheader headerLastRow\"><th class = \"rowNumber\" style = \"font-weight: bold; text-align: right;\"></th><th title = \"Union{Missing, Shapefile.Polygon}\" style = \"text-align: left;\">Polygon?</th><th title = \"Union{Missing, String}\" style = \"text-align: left;\">String?</th><th title = \"Union{Missing, String}\" style = \"text-align: left;\">String?</th><th title = \"Union{Missing, String}\" style = \"text-align: left;\">String?</th><th title = \"Union{Missing, String}\" style = \"text-align: left;\">String?</th><th title = \"Union{Missing, String}\" style = \"text-align: left;\">String?</th><th title = \"Union{Missing, String}\" style = \"text-align: left;\">String?</th><th title = \"Union{Missing, String}\" style = \"text-align: left;\">String?</th><th title = \"Union{Missing, String}\" style = \"text-align: left;\">String?</th><th title = \"Union{Missing, Int64}\" style = \"text-align: left;\">Int64?</th><th title = \"Union{Missing, Int64}\" style = \"text-align: left;\">Int64?</th><th title = \"Union{Missing, String}\" style = \"text-align: left;\">String?</th><th title = \"Union{Missing, String}\" style = \"text-align: left;\">String?</th></tr></thead><tbody><tr><td class = \"rowNumber\" style = \"font-weight: bold; text-align: right;\">1</td><td style = \"text-align: left;\">Polygon(13638 Points)</td><td style = \"text-align: left;\">3</td><td style = \"text-align: left;\">6</td><td style = \"text-align: left;\">01</td><td style = \"text-align: left;\">01779775</td><td style = \"text-align: left;\">01</td><td style = \"text-align: left;\">0400000US01</td><td style = \"text-align: left;\">AL</td><td style = \"text-align: left;\">Alabama</td><td style = \"text-align: right;\">131185561946</td><td style = \"text-align: right;\">4581813708</td><td style = \"text-align: left;\">+32.7395785</td><td style = \"text-align: left;\">-086.8434469</td></tr><tr><td class = \"rowNumber\" style = \"font-weight: bold; text-align: right;\">2</td><td style = \"text-align: left;\">Polygon(15329 Points)</td><td style = \"text-align: left;\">4</td><td style = \"text-align: left;\">9</td><td style = \"text-align: left;\">02</td><td style = \"text-align: left;\">01785533</td><td style = \"text-align: left;\">02</td><td style = \"text-align: left;\">0400000US02</td><td style = \"text-align: left;\">AK</td><td style = \"text-align: left;\">Alaska</td><td style = \"text-align: right;\">1479508971743</td><td style = \"text-align: right;\">244710526650</td><td style = \"text-align: left;\">+63.3473560</td><td style = \"text-align: left;\">-152.8397334</td></tr><tr><td class = \"rowNumber\" style = \"font-weight: bold; text-align: right;\">3</td><td style = \"text-align: left;\">Polygon(505 Points)</td><td style = \"text-align: left;\">9</td><td style = \"text-align: left;\">0</td><td style = \"text-align: left;\">60</td><td style = \"text-align: left;\">01802701</td><td style = \"text-align: left;\">60</td><td style = \"text-align: left;\">0400000US60</td><td style = \"text-align: left;\">AS</td><td style = \"text-align: left;\">American Samoa</td><td style = \"text-align: right;\">197759067</td><td style = \"text-align: right;\">1307243751</td><td style = \"text-align: left;\">-14.2671590</td><td style = \"text-align: left;\">-170.6682674</td></tr><tr><td class = \"rowNumber\" style = \"font-weight: bold; text-align: right;\">4</td><td style = \"text-align: left;\">Polygon(10816 Points)</td><td style = \"text-align: left;\">4</td><td style = \"text-align: left;\">8</td><td style = \"text-align: left;\">04</td><td style = \"text-align: left;\">01779777</td><td style = \"text-align: left;\">04</td><td style = \"text-align: left;\">0400000US04</td><td style = \"text-align: left;\">AZ</td><td style = \"text-align: left;\">Arizona</td><td style = \"text-align: right;\">294366118294</td><td style = \"text-align: right;\">853991999</td><td style = \"text-align: left;\">+34.2039362</td><td style = \"text-align: left;\">-111.6063449</td></tr><tr><td class = \"rowNumber\" style = \"font-weight: bold; text-align: right;\">5</td><td style = \"text-align: left;\">Polygon(29782 Points)</td><td style = \"text-align: left;\">3</td><td style = \"text-align: left;\">7</td><td style = \"text-align: left;\">05</td><td style = \"text-align: left;\">00068085</td><td style = \"text-align: left;\">05</td><td style = \"text-align: left;\">0400000US05</td><td style = \"text-align: left;\">AR</td><td style = \"text-align: left;\">Arkansas</td><td style = \"text-align: right;\">134658517854</td><td style = \"text-align: right;\">3122715710</td><td style = \"text-align: left;\">+34.8955256</td><td style = \"text-align: left;\">-092.4446262</td></tr><tr><td class = \"rowNumber\" style = \"font-weight: bold; text-align: right;\">6</td><td style = \"text-align: left;\">Polygon(12103 Points)</td><td style = \"text-align: left;\">4</td><td style = \"text-align: left;\">9</td><td style = \"text-align: left;\">06</td><td style = \"text-align: left;\">01779778</td><td style = \"text-align: left;\">06</td><td style = \"text-align: left;\">0400000US06</td><td style = \"text-align: left;\">CA</td><td style = \"text-align: left;\">California</td><td style = \"text-align: right;\">403673433805</td><td style = \"text-align: right;\">20291632828</td><td style = \"text-align: left;\">+37.1551773</td><td style = \"text-align: left;\">-119.5434183</td></tr><tr><td class = \"rowNumber\" style = \"font-weight: bold; text-align: right;\">7</td><td style = \"text-align: left;\">Polygon(7513 Points)</td><td style = \"text-align: left;\">4</td><td style = \"text-align: left;\">8</td><td style = \"text-align: left;\">08</td><td style = \"text-align: left;\">01779779</td><td style = \"text-align: left;\">08</td><td style = \"text-align: left;\">0400000US08</td><td style = \"text-align: left;\">CO</td><td style = \"text-align: left;\">Colorado</td><td style = \"text-align: right;\">268418973518</td><td style = \"text-align: right;\">1185541418</td><td style = \"text-align: left;\">+38.9937669</td><td style = \"text-align: left;\">-105.5087122</td></tr><tr><td class = \"rowNumber\" style = \"font-weight: bold; text-align: right;\">8</td><td style = \"text-align: left;\">Polygon(818 Points)</td><td style = \"text-align: left;\">9</td><td style = \"text-align: left;\">0</td><td style = \"text-align: left;\">69</td><td style = \"text-align: left;\">01779809</td><td style = \"text-align: left;\">69</td><td style = \"text-align: left;\">0400000US69</td><td style = \"text-align: left;\">MP</td><td style = \"text-align: left;\">Commonwealth of the Northern Mariana Islands</td><td style = \"text-align: right;\">472292520</td><td style = \"text-align: right;\">4644252458</td><td style = \"text-align: left;\">+15.0010865</td><td style = \"text-align: left;\">+145.6181702</td></tr><tr><td class = \"rowNumber\" style = \"font-weight: bold; text-align: right;\">9</td><td style = \"text-align: left;\">Polygon(3204 Points)</td><td style = \"text-align: left;\">1</td><td style = \"text-align: left;\">1</td><td style = \"text-align: left;\">09</td><td style = \"text-align: left;\">01779780</td><td style = \"text-align: left;\">09</td><td style = \"text-align: left;\">0400000US09</td><td style = \"text-align: left;\">CT</td><td style = \"text-align: left;\">Connecticut</td><td style = \"text-align: right;\">12541999507</td><td style = \"text-align: right;\">1816115183</td><td style = \"text-align: left;\">+41.5798637</td><td style = \"text-align: left;\">-072.7466572</td></tr><tr><td class = \"rowNumber\" style = \"font-weight: bold; text-align: right;\">10</td><td style = \"text-align: left;\">Polygon(5345 Points)</td><td style = \"text-align: left;\">3</td><td style = \"text-align: left;\">5</td><td style = \"text-align: left;\">10</td><td style = \"text-align: left;\">01779781</td><td style = \"text-align: left;\">10</td><td style = \"text-align: left;\">0400000US10</td><td style = \"text-align: left;\">DE</td><td style = \"text-align: left;\">Delaware</td><td style = \"text-align: right;\">5046692239</td><td style = \"text-align: right;\">1399219008</td><td style = \"text-align: left;\">+38.9985661</td><td style = \"text-align: left;\">-075.4416440</td></tr><tr><td class = \"rowNumber\" style = \"font-weight: bold; text-align: right;\">11</td><td style = \"text-align: left;\">Polygon(7365 Points)</td><td style = \"text-align: left;\">3</td><td style = \"text-align: left;\">5</td><td style = \"text-align: left;\">11</td><td style = \"text-align: left;\">01702382</td><td style = \"text-align: left;\">11</td><td style = \"text-align: left;\">0400000US11</td><td style = \"text-align: left;\">DC</td><td style = \"text-align: left;\">District of Columbia</td><td style = \"text-align: right;\">158316181</td><td style = \"text-align: right;\">18709785</td><td style = \"text-align: left;\">+38.9042474</td><td style = \"text-align: left;\">-077.0165167</td></tr><tr><td class = \"rowNumber\" style = \"font-weight: bold; text-align: right;\">12</td><td style = \"text-align: left;\">Polygon(20603 Points)</td><td style = \"text-align: left;\">3</td><td style = \"text-align: left;\">5</td><td style = \"text-align: left;\">12</td><td style = \"text-align: left;\">00294478</td><td style = \"text-align: left;\">12</td><td style = \"text-align: left;\">0400000US12</td><td style = \"text-align: left;\">FL</td><td style = \"text-align: left;\">Florida</td><td style = \"text-align: right;\">138965379385</td><td style = \"text-align: right;\">45968913048</td><td style = \"text-align: left;\">+28.3989775</td><td style = \"text-align: left;\">-082.5143005</td></tr><tr><td class = \"rowNumber\" style = \"font-weight: bold; text-align: right;\">13</td><td style = \"text-align: left;\">Polygon(30758 Points)</td><td style = \"text-align: left;\">3</td><td style = \"text-align: left;\">5</td><td style = \"text-align: left;\">13</td><td style = \"text-align: left;\">01705317</td><td style = \"text-align: left;\">13</td><td style = \"text-align: left;\">0400000US13</td><td style = \"text-align: left;\">GA</td><td style = \"text-align: left;\">Georgia</td><td style = \"text-align: right;\">149485762701</td><td style = \"text-align: right;\">4419221858</td><td style = \"text-align: left;\">+32.6295789</td><td style = \"text-align: left;\">-083.4235109</td></tr><tr><td style = \"text-align: right;\">&vellip;</td><td style = \"text-align: right;\">&vellip;</td><td style = \"text-align: right;\">&vellip;</td><td style = \"text-align: right;\">&vellip;</td><td style = \"text-align: right;\">&vellip;</td><td style = \"text-align: right;\">&vellip;</td><td style = \"text-align: right;\">&vellip;</td><td style = \"text-align: right;\">&vellip;</td><td style = \"text-align: right;\">&vellip;</td><td style = \"text-align: right;\">&vellip;</td><td style = \"text-align: right;\">&vellip;</td><td style = \"text-align: right;\">&vellip;</td><td style = \"text-align: right;\">&vellip;</td><td style = \"text-align: right;\">&vellip;</td></tr><tr><td class = \"rowNumber\" style = \"font-weight: bold; text-align: right;\">45</td><td style = \"text-align: left;\">Polygon(17509 Points)</td><td style = \"text-align: left;\">3</td><td style = \"text-align: left;\">5</td><td style = \"text-align: left;\">45</td><td style = \"text-align: left;\">01779799</td><td style = \"text-align: left;\">45</td><td style = \"text-align: left;\">0400000US45</td><td style = \"text-align: left;\">SC</td><td style = \"text-align: left;\">South Carolina</td><td style = \"text-align: right;\">77865663223</td><td style = \"text-align: right;\">5074780894</td><td style = \"text-align: left;\">+33.8741776</td><td style = \"text-align: left;\">-080.8542639</td></tr><tr><td class = \"rowNumber\" style = \"font-weight: bold; text-align: right;\">46</td><td style = \"text-align: left;\">Polygon(19954 Points)</td><td style = \"text-align: left;\">2</td><td style = \"text-align: left;\">4</td><td style = \"text-align: left;\">46</td><td style = \"text-align: left;\">01785534</td><td style = \"text-align: left;\">46</td><td style = \"text-align: left;\">0400000US46</td><td style = \"text-align: left;\">SD</td><td style = \"text-align: left;\">South Dakota</td><td style = \"text-align: right;\">196341670967</td><td style = \"text-align: right;\">3387563375</td><td style = \"text-align: left;\">+44.4467957</td><td style = \"text-align: left;\">-100.2381762</td></tr><tr><td class = \"rowNumber\" style = \"font-weight: bold; text-align: right;\">47</td><td style = \"text-align: left;\">Polygon(28874 Points)</td><td style = \"text-align: left;\">3</td><td style = \"text-align: left;\">6</td><td style = \"text-align: left;\">47</td><td style = \"text-align: left;\">01325873</td><td style = \"text-align: left;\">47</td><td style = \"text-align: left;\">0400000US47</td><td style = \"text-align: left;\">TN</td><td style = \"text-align: left;\">Tennessee</td><td style = \"text-align: right;\">106770544103</td><td style = \"text-align: right;\">2345359962</td><td style = \"text-align: left;\">+35.8584600</td><td style = \"text-align: left;\">-086.3496339</td></tr><tr><td class = \"rowNumber\" style = \"font-weight: bold; text-align: right;\">48</td><td style = \"text-align: left;\">Polygon(62855 Points)</td><td style = \"text-align: left;\">3</td><td style = \"text-align: left;\">7</td><td style = \"text-align: left;\">48</td><td style = \"text-align: left;\">01779801</td><td style = \"text-align: left;\">48</td><td style = \"text-align: left;\">0400000US48</td><td style = \"text-align: left;\">TX</td><td style = \"text-align: left;\">Texas</td><td style = \"text-align: right;\">676656702022</td><td style = \"text-align: right;\">19011620342</td><td style = \"text-align: left;\">+31.4347032</td><td style = \"text-align: left;\">-099.2818238</td></tr><tr><td class = \"rowNumber\" style = \"font-weight: bold; text-align: right;\">49</td><td style = \"text-align: left;\">Polygon(491 Points)</td><td style = \"text-align: left;\">9</td><td style = \"text-align: left;\">0</td><td style = \"text-align: left;\">78</td><td style = \"text-align: left;\">01802710</td><td style = \"text-align: left;\">78</td><td style = \"text-align: left;\">0400000US78</td><td style = \"text-align: left;\">VI</td><td style = \"text-align: left;\">United States Virgin Islands</td><td style = \"text-align: right;\">348021909</td><td style = \"text-align: right;\">1550236187</td><td style = \"text-align: left;\">+18.3392359</td><td style = \"text-align: left;\">-064.9500433</td></tr><tr><td class = \"rowNumber\" style = \"font-weight: bold; text-align: right;\">50</td><td style = \"text-align: left;\">Polygon(7490 Points)</td><td style = \"text-align: left;\">4</td><td style = \"text-align: left;\">8</td><td style = \"text-align: left;\">49</td><td style = \"text-align: left;\">01455989</td><td style = \"text-align: left;\">49</td><td style = \"text-align: left;\">0400000US49</td><td style = \"text-align: left;\">UT</td><td style = \"text-align: left;\">Utah</td><td style = \"text-align: right;\">213921882299</td><td style = \"text-align: right;\">5963163952</td><td style = \"text-align: left;\">+39.3349925</td><td style = \"text-align: left;\">-111.6563326</td></tr><tr><td class = \"rowNumber\" style = \"font-weight: bold; text-align: right;\">51</td><td style = \"text-align: left;\">Polygon(12119 Points)</td><td style = \"text-align: left;\">1</td><td style = \"text-align: left;\">1</td><td style = \"text-align: left;\">50</td><td style = \"text-align: left;\">01779802</td><td style = \"text-align: left;\">50</td><td style = \"text-align: left;\">0400000US50</td><td style = \"text-align: left;\">VT</td><td style = \"text-align: left;\">Vermont</td><td style = \"text-align: right;\">23872594714</td><td style = \"text-align: right;\">1030642813</td><td style = \"text-align: left;\">+44.0589536</td><td style = \"text-align: left;\">-072.6710173</td></tr><tr><td class = \"rowNumber\" style = \"font-weight: bold; text-align: right;\">52</td><td style = \"text-align: left;\">Polygon(49707 Points)</td><td style = \"text-align: left;\">3</td><td style = \"text-align: left;\">5</td><td style = \"text-align: left;\">51</td><td style = \"text-align: left;\">01779803</td><td style = \"text-align: left;\">51</td><td style = \"text-align: left;\">0400000US51</td><td style = \"text-align: left;\">VA</td><td style = \"text-align: left;\">Virginia</td><td style = \"text-align: right;\">102256342555</td><td style = \"text-align: right;\">8529908321</td><td style = \"text-align: left;\">+37.5222512</td><td style = \"text-align: left;\">-078.6681938</td></tr><tr><td class = \"rowNumber\" style = \"font-weight: bold; text-align: right;\">53</td><td style = \"text-align: left;\">Polygon(7945 Points)</td><td style = \"text-align: left;\">4</td><td style = \"text-align: left;\">9</td><td style = \"text-align: left;\">53</td><td style = \"text-align: left;\">01779804</td><td style = \"text-align: left;\">53</td><td style = \"text-align: left;\">0400000US53</td><td style = \"text-align: left;\">WA</td><td style = \"text-align: left;\">Washington</td><td style = \"text-align: right;\">172118798160</td><td style = \"text-align: right;\">12549101417</td><td style = \"text-align: left;\">+47.4073238</td><td style = \"text-align: left;\">-120.5757999</td></tr><tr><td class = \"rowNumber\" style = \"font-weight: bold; text-align: right;\">54</td><td style = \"text-align: left;\">Polygon(35242 Points)</td><td style = \"text-align: left;\">3</td><td style = \"text-align: left;\">5</td><td style = \"text-align: left;\">54</td><td style = \"text-align: left;\">01779805</td><td style = \"text-align: left;\">54</td><td style = \"text-align: left;\">0400000US54</td><td style = \"text-align: left;\">WV</td><td style = \"text-align: left;\">West Virginia</td><td style = \"text-align: right;\">62266513826</td><td style = \"text-align: right;\">488918898</td><td style = \"text-align: left;\">+38.6472854</td><td style = \"text-align: left;\">-080.6183274</td></tr><tr><td class = \"rowNumber\" style = \"font-weight: bold; text-align: right;\">55</td><td style = \"text-align: left;\">Polygon(16184 Points)</td><td style = \"text-align: left;\">2</td><td style = \"text-align: left;\">3</td><td style = \"text-align: left;\">55</td><td style = \"text-align: left;\">01779806</td><td style = \"text-align: left;\">55</td><td style = \"text-align: left;\">0400000US55</td><td style = \"text-align: left;\">WI</td><td style = \"text-align: left;\">Wisconsin</td><td style = \"text-align: right;\">140294555214</td><td style = \"text-align: right;\">29341156602</td><td style = \"text-align: left;\">+44.6309071</td><td style = \"text-align: left;\">-089.7093916</td></tr><tr><td class = \"rowNumber\" style = \"font-weight: bold; text-align: right;\">56</td><td style = \"text-align: left;\">Polygon(8591 Points)</td><td style = \"text-align: left;\">4</td><td style = \"text-align: left;\">8</td><td style = \"text-align: left;\">56</td><td style = \"text-align: left;\">01779807</td><td style = \"text-align: left;\">56</td><td style = \"text-align: left;\">0400000US56</td><td style = \"text-align: left;\">WY</td><td style = \"text-align: left;\">Wyoming</td><td style = \"text-align: right;\">251458190512</td><td style = \"text-align: right;\">1868025485</td><td style = \"text-align: left;\">+42.9896591</td><td style = \"text-align: left;\">-107.5443922</td></tr></tbody></table></div>"
      ],
      "text/latex": [
       "\\begin{tabular}{r|cccccccc}\n",
       "\t& geometry & REGION & DIVISION & STATEFP & STATENS & GEOID & GEOIDFQ & \\\\\n",
       "\t\\hline\n",
       "\t& Polygon? & String? & String? & String? & String? & String? & String? & \\\\\n",
       "\t\\hline\n",
       "\t1 & Polygon(13638 Points) & 3 & 6 & 01 & 01779775 & 01 & 0400000US01 & $\\dots$ \\\\\n",
       "\t2 & Polygon(15329 Points) & 4 & 9 & 02 & 01785533 & 02 & 0400000US02 & $\\dots$ \\\\\n",
       "\t3 & Polygon(505 Points) & 9 & 0 & 60 & 01802701 & 60 & 0400000US60 & $\\dots$ \\\\\n",
       "\t4 & Polygon(10816 Points) & 4 & 8 & 04 & 01779777 & 04 & 0400000US04 & $\\dots$ \\\\\n",
       "\t5 & Polygon(29782 Points) & 3 & 7 & 05 & 00068085 & 05 & 0400000US05 & $\\dots$ \\\\\n",
       "\t6 & Polygon(12103 Points) & 4 & 9 & 06 & 01779778 & 06 & 0400000US06 & $\\dots$ \\\\\n",
       "\t7 & Polygon(7513 Points) & 4 & 8 & 08 & 01779779 & 08 & 0400000US08 & $\\dots$ \\\\\n",
       "\t8 & Polygon(818 Points) & 9 & 0 & 69 & 01779809 & 69 & 0400000US69 & $\\dots$ \\\\\n",
       "\t9 & Polygon(3204 Points) & 1 & 1 & 09 & 01779780 & 09 & 0400000US09 & $\\dots$ \\\\\n",
       "\t10 & Polygon(5345 Points) & 3 & 5 & 10 & 01779781 & 10 & 0400000US10 & $\\dots$ \\\\\n",
       "\t11 & Polygon(7365 Points) & 3 & 5 & 11 & 01702382 & 11 & 0400000US11 & $\\dots$ \\\\\n",
       "\t12 & Polygon(20603 Points) & 3 & 5 & 12 & 00294478 & 12 & 0400000US12 & $\\dots$ \\\\\n",
       "\t13 & Polygon(30758 Points) & 3 & 5 & 13 & 01705317 & 13 & 0400000US13 & $\\dots$ \\\\\n",
       "\t14 & Polygon(608 Points) & 9 & 0 & 66 & 01802705 & 66 & 0400000US66 & $\\dots$ \\\\\n",
       "\t15 & Polygon(3519 Points) & 4 & 9 & 15 & 01779782 & 15 & 0400000US15 & $\\dots$ \\\\\n",
       "\t16 & Polygon(35120 Points) & 4 & 8 & 16 & 01779783 & 16 & 0400000US16 & $\\dots$ \\\\\n",
       "\t17 & Polygon(19761 Points) & 2 & 3 & 17 & 01779784 & 17 & 0400000US17 & $\\dots$ \\\\\n",
       "\t18 & Polygon(16241 Points) & 2 & 3 & 18 & 00448508 & 18 & 0400000US18 & $\\dots$ \\\\\n",
       "\t19 & Polygon(24200 Points) & 2 & 4 & 19 & 01779785 & 19 & 0400000US19 & $\\dots$ \\\\\n",
       "\t20 & Polygon(13285 Points) & 2 & 4 & 20 & 00481813 & 20 & 0400000US20 & $\\dots$ \\\\\n",
       "\t21 & Polygon(34623 Points) & 3 & 6 & 21 & 01779786 & 21 & 0400000US21 & $\\dots$ \\\\\n",
       "\t22 & Polygon(21547 Points) & 3 & 7 & 22 & 01629543 & 22 & 0400000US22 & $\\dots$ \\\\\n",
       "\t23 & Polygon(18932 Points) & 1 & 1 & 23 & 01779787 & 23 & 0400000US23 & $\\dots$ \\\\\n",
       "\t24 & Polygon(26093 Points) & 3 & 5 & 24 & 01714934 & 24 & 0400000US24 & $\\dots$ \\\\\n",
       "\t25 & Polygon(4783 Points) & 1 & 1 & 25 & 00606926 & 25 & 0400000US25 & $\\dots$ \\\\\n",
       "\t26 & Polygon(10705 Points) & 2 & 3 & 26 & 01779789 & 26 & 0400000US26 & $\\dots$ \\\\\n",
       "\t27 & Polygon(40293 Points) & 2 & 4 & 27 & 00662849 & 27 & 0400000US27 & $\\dots$ \\\\\n",
       "\t28 & Polygon(25719 Points) & 3 & 6 & 28 & 01779790 & 28 & 0400000US28 & $\\dots$ \\\\\n",
       "\t29 & Polygon(20283 Points) & 2 & 4 & 29 & 01779791 & 29 & 0400000US29 & $\\dots$ \\\\\n",
       "\t30 & Polygon(26724 Points) & 4 & 8 & 30 & 00767982 & 30 & 0400000US30 & $\\dots$ \\\\\n",
       "\t$\\dots$ & $\\dots$ & $\\dots$ & $\\dots$ & $\\dots$ & $\\dots$ & $\\dots$ & $\\dots$ &  \\\\\n",
       "\\end{tabular}\n"
      ],
      "text/plain": [
       "\u001b[1m56×13 DataFrame\u001b[0m\n",
       "\u001b[1m Row \u001b[0m│\u001b[1m geometry              \u001b[0m\u001b[1m REGION  \u001b[0m\u001b[1m DIVISION \u001b[0m\u001b[1m STATEFP \u001b[0m\u001b[1m STATENS  \u001b[0m\u001b[1m GEOID   \u001b[0m\u001b[1m G\u001b[0m ⋯\n",
       "     │\u001b[90m Polygon?              \u001b[0m\u001b[90m String? \u001b[0m\u001b[90m String?  \u001b[0m\u001b[90m String? \u001b[0m\u001b[90m String?  \u001b[0m\u001b[90m String? \u001b[0m\u001b[90m S\u001b[0m ⋯\n",
       "─────┼──────────────────────────────────────────────────────────────────────────\n",
       "   1 │ Polygon(13638 Points)  3        6         01       01779775  01       0 ⋯\n",
       "   2 │ Polygon(15329 Points)  4        9         02       01785533  02       0\n",
       "   3 │ Polygon(505 Points)    9        0         60       01802701  60       0\n",
       "   4 │ Polygon(10816 Points)  4        8         04       01779777  04       0\n",
       "   5 │ Polygon(29782 Points)  3        7         05       00068085  05       0 ⋯\n",
       "   6 │ Polygon(12103 Points)  4        9         06       01779778  06       0\n",
       "   7 │ Polygon(7513 Points)   4        8         08       01779779  08       0\n",
       "   8 │ Polygon(818 Points)    9        0         69       01779809  69       0\n",
       "   9 │ Polygon(3204 Points)   1        1         09       01779780  09       0 ⋯\n",
       "  10 │ Polygon(5345 Points)   3        5         10       01779781  10       0\n",
       "  11 │ Polygon(7365 Points)   3        5         11       01702382  11       0\n",
       "  ⋮  │           ⋮               ⋮        ⋮         ⋮        ⋮         ⋮       ⋱\n",
       "  47 │ Polygon(28874 Points)  3        6         47       01325873  47       0\n",
       "  48 │ Polygon(62855 Points)  3        7         48       01779801  48       0 ⋯\n",
       "  49 │ Polygon(491 Points)    9        0         78       01802710  78       0\n",
       "  50 │ Polygon(7490 Points)   4        8         49       01455989  49       0\n",
       "  51 │ Polygon(12119 Points)  1        1         50       01779802  50       0\n",
       "  52 │ Polygon(49707 Points)  3        5         51       01779803  51       0 ⋯\n",
       "  53 │ Polygon(7945 Points)   4        9         53       01779804  53       0\n",
       "  54 │ Polygon(35242 Points)  3        5         54       01779805  54       0\n",
       "  55 │ Polygon(16184 Points)  2        3         55       01779806  55       0\n",
       "  56 │ Polygon(8591 Points)   4        8         56       01779807  56       0 ⋯\n",
       "\u001b[36m                                                   7 columns and 35 rows omitted\u001b[0m"
      ]
     },
     "execution_count": 7,
     "metadata": {},
     "output_type": "execute_result"
    }
   ],
   "source": [
    "state_census_data = Shapefile.Table(joinpath(\"..\", \"..\", \"data\", \"exp_raw\", \"census\", \"tl_2024_us_state.zip\")) |> DataFrame\n",
    "sort!(state_census_data, :NAME)\n",
    "\n",
    "one_unique = Vector{String}()\n",
    "\n",
    "for col in names(state_census_data)\n",
    "    if length(unique(state_census_data[!, col])) == 1\n",
    "        push!(one_unique, col)\n",
    "    end\n",
    "end\n",
    "\n",
    "println(\"Columns with only one unique value: \", one_unique)\n",
    "# drop the columns with only one unique value\n",
    "select!(state_census_data, Not(one_unique))\n",
    "state_census_data"
   ]
  },
  {
   "cell_type": "code",
   "execution_count": 10,
   "metadata": {},
   "outputs": [
    {
     "name": "stdout",
     "output_type": "stream",
     "text": [
      "\"Alabama\" => 01,\n",
      "\"Alaska\" => 02,\n",
      "\"American Samoa\" => 60,\n",
      "\"Arizona\" => 04,\n",
      "\"Arkansas\" => 05,\n",
      "\"California\" => 06,\n",
      "\"Colorado\" => 08,\n",
      "\"Commonwealth of the Northern Mariana Islands\" => 69,\n",
      "\"Connecticut\" => 09,\n",
      "\"Delaware\" => 10,\n",
      "\"District of Columbia\" => 11,\n",
      "\"Florida\" => 12,\n",
      "\"Georgia\" => 13,\n",
      "\"Guam\" => 66,\n",
      "\"Hawaii\" => 15,\n",
      "\"Idaho\" => 16,\n",
      "\"Illinois\" => 17,\n",
      "\"Indiana\" => 18,\n",
      "\"Iowa\" => 19,\n",
      "\"Kansas\" => 20,\n",
      "\"Kentucky\" => 21,\n",
      "\"Louisiana\" => 22,\n",
      "\"Maine\" => 23,\n",
      "\"Maryland\" => 24,\n",
      "\"Massachusetts\" => 25,\n",
      "\"Michigan\" => 26,\n",
      "\"Minnesota\" => 27,\n",
      "\"Mississippi\" => 28,\n",
      "\"Missouri\" => 29,\n",
      "\"Montana\" => 30,\n",
      "\"Nebraska\" => 31,\n",
      "\"Nevada\" => 32,\n",
      "\"New Hampshire\" => 33,\n",
      "\"New Jersey\" => 34,\n",
      "\"New Mexico\" => 35,\n",
      "\"New York\" => 36,\n",
      "\"North Carolina\" => 37,\n",
      "\"North Dakota\" => 38,\n",
      "\"Ohio\" => 39,\n",
      "\"Oklahoma\" => 40,\n",
      "\"Oregon\" => 41,\n",
      "\"Pennsylvania\" => 42,\n",
      "\"Puerto Rico\" => 72,\n",
      "\"Rhode Island\" => 44,\n",
      "\"South Carolina\" => 45,\n",
      "\"South Dakota\" => 46,\n",
      "\"Tennessee\" => 47,\n",
      "\"Texas\" => 48,\n",
      "\"United States Virgin Islands\" => 78,\n",
      "\"Utah\" => 49,\n",
      "\"Vermont\" => 50,\n",
      "\"Virginia\" => 51,\n",
      "\"Washington\" => 53,\n",
      "\"West Virginia\" => 54,\n",
      "\"Wisconsin\" => 55,\n",
      "\"Wyoming\" => 56,\n"
     ]
    }
   ],
   "source": [
    "for row in eachrow(state_census_data)\n",
    "    println(\"\\\"$(row.NAME)\\\" => $(row.STATEFP),\")\n",
    "end"
   ]
  },
  {
   "cell_type": "code",
   "execution_count": null,
   "metadata": {},
   "outputs": [],
   "source": [
    "f, a, p = poly(state_census_data.geometry; axis = (; type = GeoAxis))\n",
    "tp = Makie.text!(a, Polylabel.polylabel.(state_census_data.geometry); text = string.(state_census_data.STUSPS), align = (:center, :center))\n",
    "tp.fontsize = 5\n",
    "f"
   ]
  },
  {
   "cell_type": "code",
   "execution_count": null,
   "metadata": {},
   "outputs": [],
   "source": [
    "# save f to a file\n",
    "#save(\"census_map.png\", f)"
   ]
  }
 ],
 "metadata": {
  "kernelspec": {
   "display_name": "Julia 1.11.4",
   "language": "julia",
   "name": "julia-1.11"
  },
  "language_info": {
   "file_extension": ".jl",
   "mimetype": "application/julia",
   "name": "julia",
   "version": "1.11.4"
  }
 },
 "nbformat": 4,
 "nbformat_minor": 4
}
